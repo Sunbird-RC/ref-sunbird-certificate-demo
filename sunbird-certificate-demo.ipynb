{
 "cells": [
  {
   "cell_type": "code",
   "execution_count": 1,
   "id": "c9e62b35-8012-4614-9d3d-e9212e7b698f",
   "metadata": {
    "pycharm": {
     "is_executing": false
    }
   },
   "outputs": [],
   "source": [
    "import requests\n",
    "import random\n",
    "import json\n"
   ]
  },
  {
   "cell_type": "code",
   "execution_count": null,
   "id": "626b7b38-1773-4d3d-b1df-2e53f9372700",
   "metadata": {},
   "outputs": [],
   "source": []
  },
  {
   "cell_type": "code",
   "execution_count": 15,
   "id": "bc7348d4-396b-4319-b6f8-47c210dc0768",
   "metadata": {
    "pycharm": {
     "is_executing": false
    }
   },
   "outputs": [],
   "source": [
    "registryBase = \"http://localhost:6083/\"\n",
    "baseUrl = \"http://localhost:6083/api/v1/\"\n",
    "keycloakUrl = \"http://keycloak:8080\""
   ]
  },
  {
   "cell_type": "markdown",
   "id": "ff7ffb5b-6200-41c6-98c9-794436daba85",
   "metadata": {},
   "source": [
    "# create a issuer"
   ]
  },
  {
   "cell_type": "code",
   "execution_count": 9,
   "id": "8829ed91-6897-4050-8ac7-9e904d83818a",
   "metadata": {
    "pycharm": {
     "is_executing": false
    }
   },
   "outputs": [
    {
     "name": "stdout",
     "output_type": "stream",
     "text": [
      "{\"id\":\"open-saber.registry.invite\",\"ver\":\"1.0\",\"ets\":1652177544810,\"params\":{\"resmsgid\":\"\",\"msgid\":\"0af635ad-c5eb-4849-8571-38963f346acc\",\"err\":\"\",\"status\":\"SUCCESSFUL\",\"errmsg\":\"\"},\"responseCode\":\"OK\",\"result\":{\"Issuer\":{\"osid\":\"1-551a4600-8071-4b28-a094-7823c62c9c53\"}}}\n"
     ]
    }
   ],
   "source": [
    "issuerId = \"q7@mailinator.com\"\n",
    "issuerRequestBody = {\n",
    "  \"contactDetails\": {\n",
    "    \"name\": \"\",\n",
    "    \"email\": \"issuerId\",\n",
    "    \"mobile\": \"issuerId\"\n",
    "  },\n",
    "  \"schemas\": [],\n",
    "  \"accountDetails\": {\n",
    "      \"userId\": issuerId\n",
    "  },\n",
    "  \"websiteUrl\": \"https://picsum.photos/200\",\n",
    "  \"logoUrl\": \"https://picsum.photos/200\",\n",
    "  \"name\": \"Issuer\",\n",
    "  \"sectorType\": \"Education\"\n",
    "}\n",
    "headers = {\n",
    "  'Content-Type': 'application/json'\n",
    "}\n",
    "\n",
    "response = requests.request(\"POST\", baseUrl + \"Issuer/invite\", headers=headers, json=issuerRequestBody)\n",
    "\n",
    "print(response.text)\n",
    "issuerOsid = response.json()[\"result\"][\"Issuer\"][\"osid\"]"
   ]
  },
  {
   "cell_type": "markdown",
   "id": "28ce5762-04ab-4fb2-b4ee-180a57e2d769",
   "metadata": {},
   "source": [
    "# get issuer token\n"
   ]
  },
  {
   "cell_type": "code",
   "execution_count": 16,
   "id": "959b097e-bc94-449c-87e9-fbb12cd3694f",
   "metadata": {},
   "outputs": [
    {
     "name": "stdout",
     "output_type": "stream",
     "text": [
      "eyJhbGciOiJSUzI1NiIsInR5cCIgOiAiSldUIiwia2lkIiA6ICJ4dWp6dTc2RUZJLTFBeUxmckRTQjFVbkprN042bzNvWERkSnZfYTVjcDJVIn0.eyJleHAiOjE2NTIxODE5NzgsImlhdCI6MTY1MjE4MTM3OCwianRpIjoiM2MzMjM2N2ItOGI5Zi00ZmUyLWJhMmYtMmIzMGJlNzJjOGEyIiwiaXNzIjoiaHR0cDovL2tleWNsb2FrOjgwODAvYXV0aC9yZWFsbXMvc3VuYmlyZC1yYyIsImF1ZCI6ImFjY291bnQiLCJzdWIiOiI4YzhkNjNlYy1iZjU2LTQ1ZTEtOTA1Mi0xZWM3ZGEwZDg4MzAiLCJ0eXAiOiJCZWFyZXIiLCJhenAiOiJyZWdpc3RyeS1mcm9udGVuZCIsInNlc3Npb25fc3RhdGUiOiI0YTRmNTM2OS1hM2Q1LTQxMTctYjY5NC01ZWFhOGRlY2E5NWMiLCJhY3IiOiIxIiwiYWxsb3dlZC1vcmlnaW5zIjpbImh0dHBzOi8vbG9jYWxob3N0OjQyMDIiLCJodHRwOi8vbG9jYWxob3N0OjQyMDIiLCJodHRwczovL2xvY2FsaG9zdDo0MjAwIiwiaHR0cHM6Ly9uZGVhci54aXYuaW4iLCJodHRwOi8vbG9jYWxob3N0OjQyMDAiLCJodHRwOi8vbmRlYXIueGl2LmluIiwiaHR0cHM6Ly9zdW5iaXJkLWNlcnRpZmljYXRlLWRlbW8ueGl2LmluIiwiaHR0cDovLzIwLjE5OC42NC4xMjgiXSwicmVhbG1fYWNjZXNzIjp7InJvbGVzIjpbIm9mZmxpbmVfYWNjZXNzIiwiYWRtaW4iLCJ1bWFfYXV0aG9yaXphdGlvbiIsImRlZmF1bHQtcm9sZXMtbmRlYXIiXX0sInJlc291cmNlX2FjY2VzcyI6eyJhY2NvdW50Ijp7InJvbGVzIjpbIm1hbmFnZS1hY2NvdW50IiwibWFuYWdlLWFjY291bnQtbGlua3MiLCJ2aWV3LXByb2ZpbGUiXX19LCJzY29wZSI6InByb2ZpbGUgZW1haWwiLCJlbWFpbF92ZXJpZmllZCI6ZmFsc2UsInByZWZlcnJlZF91c2VybmFtZSI6InE3QG1haWxpbmF0b3IuY29tIiwiZW50aXR5IjpbIklzc3VlciJdLCJlbWFpbCI6InE3QG1haWxpbmF0b3IuY29tIn0.G7JpTVFuljdgH4mwiVwrRoWAFAOGE2z7URWl8d2NS2jlM1sIiWiL1kw2ZC5ENAmEXIkAaPLT04zKi16_Rq2dA0uYK8URDI6Z4zLd9eLxif_Qr6vVqQm_HpbapPJJNdvmsNve9PN3B6e7Y8d6ggDrSrsD7MN3N16PRW3trUbF9RrBRl_sQQBnOSg_pAccIGOMyucQE-rPKq9BkitVnEBm1piqbqMveDo0lhQWhsXvWnwCYJIzRozvEcWbweStPbORQlcdVXdUP_tZnKOqr1WEOxAj8GOsWeTB5lkMxiWXez1jef19f3sbx0Z2RILi5QfUuG2TGUIFlq3qnPJH-wzVpw\n"
     ]
    }
   ],
   "source": [
    "def getToken(userId):\n",
    "    headers = {\n",
    "        'content-type': 'application/x-www-form-urlencoded',\n",
    "    }\n",
    "\n",
    "    data = {\n",
    "      'client_id': 'registry-frontend',\n",
    "      'username': userId,\n",
    "      'password': 'abcd@123',\n",
    "      'grant_type': 'password'\n",
    "    }\n",
    "\n",
    "    response = requests.post('%s/auth/realms/sunbird-rc/protocol/openid-connect/token'%(keycloakUrl), headers=headers, data=data)\n",
    "#     print(response.json())\n",
    "#     print(response.status_code)\n",
    "    token = response.json()[\"access_token\"]\n",
    "    return token\n",
    "\n",
    "token = getToken(issuerId)\n",
    "print(token)"
   ]
  },
  {
   "cell_type": "markdown",
   "id": "52c10e0b-2c99-44dd-932e-b1ccc3dde242",
   "metadata": {},
   "source": [
    "# create a schema"
   ]
  },
  {
   "cell_type": "code",
   "execution_count": 17,
   "id": "e35ee24c-0e23-4137-81d1-eb21eb2b1a97",
   "metadata": {},
   "outputs": [
    {
     "name": "stdout",
     "output_type": "stream",
     "text": [
      "200\n",
      "{\"id\":\"open-saber.registry.create\",\"ver\":\"1.0\",\"ets\":1652181380883,\"params\":{\"resmsgid\":\"\",\"msgid\":\"2d1025cd-51a9-4b36-92ee-4186a7c22209\",\"err\":\"\",\"status\":\"SUCCESSFUL\",\"errmsg\":\"\"},\"responseCode\":\"OK\",\"result\":{\"Schema\":{\"osid\":\"1-5e5341ff-3653-4f91-ac4a-949ef6a7d811\"}}}\n",
      "1-5e5341ff-3653-4f91-ac4a-949ef6a7d811\n"
     ]
    }
   ],
   "source": [
    "\n",
    "schemaRequestBody = {\n",
    "  \"name\": \"schema21\",\n",
    "    \"schema\": \"{\\n  \\\"$schema\\\": \\\"http://json-schema.org/draft-07/schema\\\",\\n  \\\"type\\\": \\\"object\\\",\\n  \\\"properties\\\": {\\n    \\\"TrainingCertificate\\\": {\\n      \\\"$ref\\\": \\\"#/definitions/TrainingCertificate\\\"\\n    }\\n  },\\n  \\\"required\\\": [\\n    \\\"TrainingCertificate\\\"\\n  ],\\n  \\\"title\\\": \\\"TrainingCertificate\\\",\\n  \\\"definitions\\\": {\\n    \\\"TrainingCertificate\\\": {\\n      \\\"$id\\\": \\\"#/properties/TrainingCertificate\\\",\\n      \\\"type\\\": \\\"object\\\",\\n      \\\"title\\\": \\\"The TrainingCertificate Schema\\\",\\n      \\\"required\\\": [\\n        \\\"name\\\",\\n        \\\"contact\\\"\\n      ],\\n      \\\"properties\\\": {\\n        \\\"name\\\": {\\n          \\\"type\\\": \\\"string\\\"\\n        },\\n        \\\"trainingTitle\\\": {\\n          \\\"type\\\": \\\"string\\\"\\n        },\\n        \\\"contact\\\": {\\n          \\\"type\\\": \\\"string\\\"\\n        },\\n        \\\"date\\\": {\\n          \\\"type\\\": \\\"string\\\",\\n          \\\"format\\\": \\\"date\\\"\\n        },\\n        \\\"note\\\": {\\n          \\\"type\\\": \\\"string\\\"\\n        }\\n      }\\n    }\\n  },\\n  \\\"_osConfig\\\": {\\n    \\\"uniqueIndexFields\\\": [\\n      \\\"contact\\\"\\n    ],\\n    \\\"ownershipAttributes\\\": [],\\n    \\\"roles\\\": [],\\n    \\\"inviteRoles\\\": [\\n      \\\"anonymous\\\"\\n    ],\\n    \\\"enableLogin\\\": false,\\n    \\\"credentialTemplate\\\": {\\n      \\\"@context\\\": [\\n        \\\"https://www.w3.org/2018/credentials/v1\\\",\\n        \\\"https://gist.githubusercontent.com/dileepbapat/eb932596a70f75016411cc871113a789/raw/498e5af1d94784f114b32c1ab827f951a8a24def/skill\\\"\\n      ],\\n      \\\"type\\\": [\\n        \\\"VerifiableCredential\\\"\\n      ],\\n      \\\"issuanceDate\\\": \\\"2021-08-27T10:57:57.237Z\\\",\\n      \\\"credentialSubject\\\": {\\n        \\\"type\\\": \\\"Person\\\",\\n        \\\"name\\\": \\\"{{name}}\\\",\\n        \\\"trainedOn\\\": \\\"{{trainingTitle}}\\\"\\n      },\\n      \\\"issuer\\\": \\\"did:web:sunbirdrc.dev/vc/skill\\\"\\n    },\\n    \\\"certificateTemplates\\\": {\\n      \\\"html\\\": \\\"https://raw.githubusercontent.com/dileepbapat/ref-sunbirdrc-certificate/main/schemas/templates/TrainingCertificate.html\\\",\\n      \\\"svg\\\": \\\"https://raw.githubusercontent.com/dileepbapat/ref-sunbirdrc-certificate/main/schemas/templates/TrainingCertificate.svg\\\"\\n    }\\n  }\\n}\"\n",
    "}\n",
    "headers = {\n",
    "  'Content-Type': 'application/json',\n",
    "    'Authorization': 'Bearer ' + token\n",
    "}\n",
    "\n",
    "response = requests.request(\"POST\", baseUrl + \"Schema\", headers=headers, json=schemaRequestBody)\n",
    "\n",
    "print(response.status_code)\n",
    "print(response.text)\n",
    "assert response.status_code == 200 \n",
    "schemaOsid = response.json()[\"result\"][\"Schema\"][\"osid\"]\n",
    "print(schemaOsid)"
   ]
  },
  {
   "cell_type": "code",
   "execution_count": 18,
   "id": "2afc69be-7116-4616-960b-ce36d83757b3",
   "metadata": {},
   "outputs": [
    {
     "data": {
      "text/plain": [
       "<Response [200]>"
      ]
     },
     "execution_count": 18,
     "metadata": {},
     "output_type": "execute_result"
    }
   ],
   "source": [
    "response"
   ]
  },
  {
   "cell_type": "markdown",
   "id": "2675f607-b28d-460a-8764-dc2b77fb5c1f",
   "metadata": {},
   "source": [
    "# get all schemas"
   ]
  },
  {
   "cell_type": "code",
   "execution_count": 19,
   "id": "3f9386dc-0f0b-4624-ae05-0c4d0ef8c418",
   "metadata": {},
   "outputs": [
    {
     "name": "stdout",
     "output_type": "stream",
     "text": [
      "[{'schema': '{\\n  \"$schema\": \"http://json-schema.org/draft-07/schema\",\\n  \"type\": \"object\",\\n  \"properties\": {\\n    \"TrainingCertificate\": {\\n      \"$ref\": \"#/definitions/TrainingCertificate\"\\n    }\\n  },\\n  \"required\": [\\n    \"TrainingCertificate\"\\n  ],\\n  \"title\": \"TrainingCertificate\",\\n  \"definitions\": {\\n    \"TrainingCertificate\": {\\n      \"$id\": \"#/properties/TrainingCertificate\",\\n      \"type\": \"object\",\\n      \"title\": \"The TrainingCertificate Schema\",\\n      \"required\": [\\n        \"name\",\\n        \"contact\"\\n      ],\\n      \"properties\": {\\n        \"name\": {\\n          \"type\": \"string\"\\n        },\\n        \"trainingTitle\": {\\n          \"type\": \"string\"\\n        },\\n        \"contact\": {\\n          \"type\": \"string\"\\n        },\\n        \"date\": {\\n          \"type\": \"string\",\\n          \"format\": \"date\"\\n        },\\n        \"note\": {\\n          \"type\": \"string\"\\n        }\\n      }\\n    }\\n  },\\n  \"_osConfig\": {\\n    \"uniqueIndexFields\": [\\n      \"contact\"\\n    ],\\n    \"ownershipAttributes\": [],\\n    \"roles\": [],\\n    \"inviteRoles\": [\\n      \"anonymous\"\\n    ],\\n    \"enableLogin\": false,\\n    \"credentialTemplate\": {\\n      \"@context\": [\\n        \"https://www.w3.org/2018/credentials/v1\",\\n        \"https://gist.githubusercontent.com/dileepbapat/eb932596a70f75016411cc871113a789/raw/498e5af1d94784f114b32c1ab827f951a8a24def/skill\"\\n      ],\\n      \"type\": [\\n        \"VerifiableCredential\"\\n      ],\\n      \"issuanceDate\": \"2021-08-27T10:57:57.237Z\",\\n      \"credentialSubject\": {\\n        \"type\": \"Person\",\\n        \"name\": \"{{name}}\",\\n        \"trainedOn\": \"{{trainingTitle}}\"\\n      },\\n      \"issuer\": \"did:web:sunbirdrc.dev/vc/skill\"\\n    },\\n    \"certificateTemplates\": {\\n      \"html\": \"https://raw.githubusercontent.com/dileepbapat/ref-sunbirdrc-certificate/main/schemas/templates/TrainingCertificate.html\",\\n      \"svg\": \"https://raw.githubusercontent.com/dileepbapat/ref-sunbirdrc-certificate/main/schemas/templates/TrainingCertificate.svg\"\\n    }\\n  }\\n}', 'osUpdatedAt': '2022-05-10T11:16:20.985Z', 'osCreatedAt': '2022-05-10T11:16:20.985Z', 'osUpdatedBy': '8c8d63ec-bf56-45e1-9052-1ec7da0d8830', 'name': 'schema21', 'osCreatedBy': '8c8d63ec-bf56-45e1-9052-1ec7da0d8830', 'osid': '1-5e5341ff-3653-4f91-ac4a-949ef6a7d811', 'osOwner': ['8c8d63ec-bf56-45e1-9052-1ec7da0d8830']}]\n",
      "schema21\n"
     ]
    }
   ],
   "source": [
    "schemaRequestBody = {\n",
    "  \"entity\": \"Schema\",\n",
    "    \"filters\": {}\n",
    "}\n",
    "headers = {\n",
    "  'Content-Type': 'application/json',\n",
    "    'Authorization': 'Bearer ' + token\n",
    "}\n",
    "\n",
    "response = requests.request(\"POST\", baseUrl + \"Schema/search\", headers=headers, json=schemaRequestBody)\n",
    "\n",
    "print(response.json())\n",
    "for j in response.json():\n",
    "    print(j['name'])"
   ]
  },
  {
   "cell_type": "code",
   "execution_count": 20,
   "id": "ea111905-0af2-411a-b154-dbccf5f2c89e",
   "metadata": {},
   "outputs": [
    {
     "name": "stdout",
     "output_type": "stream",
     "text": [
      "<Response [200]>\n",
      "[{'schema': '{\\n  \"$schema\": \"http://json-schema.org/draft-07/schema\",\\n  \"type\": \"object\",\\n  \"properties\": {\\n    \"TrainingCertificate\": {\\n      \"$ref\": \"#/definitions/TrainingCertificate\"\\n    }\\n  },\\n  \"required\": [\\n    \"TrainingCertificate\"\\n  ],\\n  \"title\": \"TrainingCertificate\",\\n  \"definitions\": {\\n    \"TrainingCertificate\": {\\n      \"$id\": \"#/properties/TrainingCertificate\",\\n      \"type\": \"object\",\\n      \"title\": \"The TrainingCertificate Schema\",\\n      \"required\": [\\n        \"name\",\\n        \"contact\"\\n      ],\\n      \"properties\": {\\n        \"name\": {\\n          \"type\": \"string\"\\n        },\\n        \"trainingTitle\": {\\n          \"type\": \"string\"\\n        },\\n        \"contact\": {\\n          \"type\": \"string\"\\n        },\\n        \"date\": {\\n          \"type\": \"string\",\\n          \"format\": \"date\"\\n        },\\n        \"note\": {\\n          \"type\": \"string\"\\n        }\\n      }\\n    }\\n  },\\n  \"_osConfig\": {\\n    \"uniqueIndexFields\": [\\n      \"contact\"\\n    ],\\n    \"ownershipAttributes\": [],\\n    \"roles\": [],\\n    \"inviteRoles\": [\\n      \"anonymous\"\\n    ],\\n    \"enableLogin\": false,\\n    \"credentialTemplate\": {\\n      \"@context\": [\\n        \"https://www.w3.org/2018/credentials/v1\",\\n        \"https://gist.githubusercontent.com/dileepbapat/eb932596a70f75016411cc871113a789/raw/498e5af1d94784f114b32c1ab827f951a8a24def/skill\"\\n      ],\\n      \"type\": [\\n        \"VerifiableCredential\"\\n      ],\\n      \"issuanceDate\": \"2021-08-27T10:57:57.237Z\",\\n      \"credentialSubject\": {\\n        \"type\": \"Person\",\\n        \"name\": \"{{name}}\",\\n        \"trainedOn\": \"{{trainingTitle}}\"\\n      },\\n      \"issuer\": \"did:web:sunbirdrc.dev/vc/skill\"\\n    },\\n    \"certificateTemplates\": {\\n      \"html\": \"https://raw.githubusercontent.com/dileepbapat/ref-sunbirdrc-certificate/main/schemas/templates/TrainingCertificate.html\",\\n      \"svg\": \"https://raw.githubusercontent.com/dileepbapat/ref-sunbirdrc-certificate/main/schemas/templates/TrainingCertificate.svg\"\\n    }\\n  }\\n}', 'osUpdatedAt': '2022-05-10T11:16:20.985Z', 'osCreatedAt': '2022-05-10T11:16:20.985Z', 'osUpdatedBy': '8c8d63ec-bf56-45e1-9052-1ec7da0d8830', 'name': 'schema21', 'osCreatedBy': '8c8d63ec-bf56-45e1-9052-1ec7da0d8830', 'osid': '1-5e5341ff-3653-4f91-ac4a-949ef6a7d811', 'osOwner': ['8c8d63ec-bf56-45e1-9052-1ec7da0d8830']}]\n",
      "1\n"
     ]
    }
   ],
   "source": [
    "schemaRequestBody = {\n",
    "  \"entity\": \"Schema\",\n",
    "    \"filters\": {}\n",
    "}\n",
    "headers = {\n",
    "  'Content-Type': 'application/json',\n",
    "    'Authorization': 'Bearer ' + token\n",
    "}\n",
    "\n",
    "response = requests.request(\"GET\", baseUrl + \"Schema\", headers=headers)\n",
    "print(response)\n",
    "print(response.json())\n",
    "print(len(response.json()))"
   ]
  },
  {
   "cell_type": "markdown",
   "id": "20d0ba59-8def-4962-b08e-416b4a697dfd",
   "metadata": {},
   "source": [
    "# upload template"
   ]
  },
  {
   "cell_type": "code",
   "execution_count": 21,
   "id": "b5310fff-cbab-4f31-8099-eee5304d65fe",
   "metadata": {},
   "outputs": [
    {
     "name": "stdout",
     "output_type": "stream",
     "text": [
      "<Response [200]>\n",
      "Issuer/1-551a4600-8071-4b28-a094-7823c62c9c53/templates/documents/08b41928-fc75-4be4-abed-321422f65c36-certificate.html\n"
     ]
    }
   ],
   "source": [
    "\n",
    "url = \"http://localhost:8081/api/v1/Issuer/1-9a7f72a0-b48d-48c8-b538-d46300b3f859/attestation/documents\"\n",
    "\n",
    "payload={}\n",
    "files=[\n",
    "  ('files',('certificate.html',open('certificate.html','rb'),'application/pdf'))\n",
    "]\n",
    "headers = {\n",
    "  'Authorization': 'Bearer ' + token\n",
    "}\n",
    "\n",
    "templateResponse = requests.request(\"POST\", baseUrl + \"Issuer/\" + issuerOsid + \"/templates/documents\", headers=headers, data=payload, files=files)\n",
    "print(templateResponse)\n",
    "templateUrl = templateResponse.json()[\"documentLocations\"][0]\n",
    "print(templateUrl)\n"
   ]
  },
  {
   "cell_type": "markdown",
   "id": "0f66689f-0dc9-4b29-857a-d3fc10098518",
   "metadata": {},
   "source": [
    "# update schemas"
   ]
  },
  {
   "cell_type": "code",
   "execution_count": 22,
   "id": "f0c998a0-2202-405d-8c22-ee6fd31cb054",
   "metadata": {},
   "outputs": [
    {
     "name": "stdout",
     "output_type": "stream",
     "text": [
      "<Response [200]>\n",
      "{\"id\":\"open-saber.registry.update\",\"ver\":\"1.0\",\"ets\":1652181394639,\"params\":{\"resmsgid\":\"\",\"msgid\":\"bfd5cbff-9299-4d86-855a-d4f2ccca5d54\",\"err\":\"\",\"status\":\"SUCCESSFUL\",\"errmsg\":\"\"},\"responseCode\":\"OK\"}\n",
      "{'$id': '#/properties/TrainingCertificate', 'type': 'object', 'title': 'The TrainingCertificate Schema', 'required': ['name', 'contact'], 'properties': {'name': {'type': 'string'}, 'trainingTitle': {'type': 'string'}, 'contact': {'type': 'string'}, 'createdAt': {'type': 'string', 'format': 'date'}, 'note': {'type': 'string'}}}\n",
      "True\n",
      "did:path:Issuer/1-551a4600-8071-4b28-a094-7823c62c9c53/templates/documents/08b41928-fc75-4be4-abed-321422f65c36-certificate.html\n"
     ]
    }
   ],
   "source": [
    "updateRequestBody = {\n",
    "    \"schema\": \"{\\n  \\\"$schema\\\": \\\"http://json-schema.org/draft-07/schema\\\",\\n  \\\"type\\\": \\\"object\\\",\\n  \\\"properties\\\": {\\n    \\\"TrainingCertificate\\\": {\\n      \\\"$ref\\\": \\\"#/definitions/TrainingCertificate\\\"\\n    }\\n  },\\n  \\\"required\\\": [\\n    \\\"TrainingCertificate\\\"\\n  ],\\n  \\\"title\\\": \\\"TrainingCertificate\\\",\\n  \\\"definitions\\\": {\\n    \\\"TrainingCertificate\\\": {\\n      \\\"$id\\\": \\\"#/properties/TrainingCertificate\\\",\\n      \\\"type\\\": \\\"object\\\",\\n      \\\"title\\\": \\\"The TrainingCertificate Schema\\\",\\n      \\\"required\\\": [\\n        \\\"name\\\",\\n        \\\"contact\\\"\\n      ],\\n      \\\"properties\\\": {\\n        \\\"name\\\": {\\n          \\\"type\\\": \\\"string\\\"\\n        },\\n        \\\"trainingTitle\\\": {\\n          \\\"type\\\": \\\"string\\\"\\n        },\\n        \\\"contact\\\": {\\n          \\\"type\\\": \\\"string\\\"\\n        },\\n        \\\"createdAt\\\": {\\n          \\\"type\\\": \\\"string\\\",\\n          \\\"format\\\": \\\"date\\\"\\n        },\\n        \\\"note\\\": {\\n          \\\"type\\\": \\\"string\\\"\\n        }\\n      }\\n    }\\n  },\\n  \\\"_osConfig\\\": {\\n    \\\"uniqueIndexFields\\\": [\\n      \\\"contact\\\"\\n    ],\\n    \\\"ownershipAttributes\\\": [],\\n    \\\"roles\\\": [],\\n    \\\"inviteRoles\\\": [\\n      \\\"anonymous\\\"\\n    ],\\n    \\\"enableLogin\\\": false,\\n    \\\"credentialTemplate\\\": {\\n      \\\"@context\\\": [\\n        \\\"https://www.w3.org/2018/credentials/v1\\\",\\n        \\\"https://gist.githubusercontent.com/dileepbapat/eb932596a70f75016411cc871113a789/raw/498e5af1d94784f114b32c1ab827f951a8a24def/skill\\\"\\n      ],\\n      \\\"type\\\": [\\n        \\\"VerifiableCredential\\\"\\n      ],\\n      \\\"issuanceDate\\\": \\\"2021-08-27T10:57:57.237Z\\\",\\n      \\\"credentialSubject\\\": {\\n        \\\"type\\\": \\\"Person\\\",\\n        \\\"name\\\": \\\"{{name}}\\\",\\n        \\\"trainedOn\\\": \\\"{{trainingTitle}}\\\"\\n      },\\n      \\\"issuer\\\": \\\"did:web:sunbirdrc.dev/vc/skill\\\"\\n    },\"+\n",
    "    \"\\n    \\\"certificateTemplates\\\": {\\n      \\\"html\\\": \\\"did:path:\"+ templateUrl+\"\\\",\\n  \"\n",
    "    +\"    \\\"svg\\\": \\\"did:url:https://raw.githubusercontent.com/dileepbapat/ref-sunbirdrc-certificate/main/schemas/templates/TrainingCertificate.svg\\\"\\n    }\\n  }\\n}\"\n",
    "}\n",
    "headers = {\n",
    "  'Content-Type': 'application/json',\n",
    "    'Authorization': 'Bearer ' + token\n",
    "}\n",
    "\n",
    "response = requests.request(\"PUT\", baseUrl + \"Schema/\"+schemaOsid, headers=headers, json=updateRequestBody)\n",
    "print(response)\n",
    "print(response.text)\n",
    "headers = {\n",
    "  'Content-Type': 'application/json'\n",
    "}\n",
    "\n",
    "response = requests.request(\"GET\", registryBase + \"registry/TrainingCertificate\", headers=headers)\n",
    "print(json.loads(response.json()[\"result\"][\"content\"])[\"definitions\"][\"TrainingCertificate\"])\n",
    "print(\"createdAt\" in json.loads(response.json()[\"result\"][\"content\"])[\"definitions\"][\"TrainingCertificate\"][\"properties\"])\n",
    "htmlTemplatePath = json.loads(response.json()[\"result\"][\"content\"])[\"_osConfig\"][\"certificateTemplates\"][\"html\"]\n",
    "print(htmlTemplatePath)\n",
    "assert htmlTemplatePath == \"did:path:\" + templateUrl"
   ]
  },
  {
   "cell_type": "markdown",
   "id": "5b09e13a-ff6e-4bb1-b42a-de7bb7b19eaa",
   "metadata": {},
   "source": [
    "# Delete schema ()"
   ]
  },
  {
   "cell_type": "code",
   "execution_count": 63,
   "id": "5533b533-d0f6-4d2d-8cda-1bc226fb6eda",
   "metadata": {},
   "outputs": [
    {
     "name": "stdout",
     "output_type": "stream",
     "text": [
      "<Response [200]>\n",
      "{'id': 'open-saber.registry.delete', 'ver': '1.0', 'ets': 1647412601947, 'params': {'resmsgid': '', 'msgid': 'ee432ab1-db97-43bf-87b0-f8f56b1a4dfa', 'err': '', 'status': 'SUCCESSFUL', 'errmsg': ''}, 'responseCode': 'OK'}\n",
      "5\n",
      "{'id': 'open-saber.registry.read', 'ver': '1.0', 'ets': 1647412602119, 'params': {'resmsgid': '', 'msgid': '36efe9d7-ce6c-48ef-9ced-3c604b61eac4', 'err': '', 'status': 'SUCCESSFUL', 'errmsg': ''}, 'responseCode': 'OK'}\n",
      "False\n"
     ]
    }
   ],
   "source": [
    "schemaRequestBody = {\n",
    "  \"entity\": \"Schema\",\n",
    "    \"filters\": {}\n",
    "}\n",
    "headers = {\n",
    "  'Content-Type': 'application/json',\n",
    "    'Authorization': 'Bearer ' + token\n",
    "}\n",
    "\n",
    "response = requests.request(\"DELETE\", baseUrl + \"Schema/\" + schemaOsid, headers=headers)\n",
    "print(response)\n",
    "print(response.json())\n",
    "print(len(response.json()))\n",
    "headers = {\n",
    "  'Content-Type': 'application/json'\n",
    "}\n",
    "\n",
    "response = requests.request(\"GET\", registryBase + \"registry/TrainingCertificate\", headers=headers)\n",
    "print(response.json())\n",
    "print(\"result\" in response.json())\n",
    "assert (\"result\" in response.json()) == False"
   ]
  },
  {
   "cell_type": "markdown",
   "id": "c2e79d55-234f-4f5a-891a-012cf343758e",
   "metadata": {},
   "source": [
    "# get all definitions"
   ]
  },
  {
   "cell_type": "code",
   "execution_count": 23,
   "id": "a0575067-b978-4e10-8f02-0ceb3674c3a0",
   "metadata": {},
   "outputs": [
    {
     "name": "stdout",
     "output_type": "stream",
     "text": [
      "{'id': 'open-saber.registry.read', 'ver': '1.0', 'ets': 1652181399031, 'params': {'resmsgid': '', 'msgid': 'e8ef47ed-8fb7-451f-b139-8e89bf67db63', 'err': '', 'status': 'SUCCESSFUL', 'errmsg': ''}, 'responseCode': 'OK', 'result': ['TrainingCertificate', 'Issuer', 'Schema', 'DocumentType']}\n"
     ]
    }
   ],
   "source": [
    "\n",
    "headers = {\n",
    "  'Content-Type': 'application/json'\n",
    "}\n",
    "\n",
    "response = requests.request(\"GET\", registryBase + \"registers\", headers=headers)\n",
    "\n",
    "print(response.json())"
   ]
  },
  {
   "cell_type": "markdown",
   "id": "c05eff15-55b9-4220-bca9-8af1af522986",
   "metadata": {},
   "source": [
    "# get entity definition"
   ]
  },
  {
   "cell_type": "code",
   "execution_count": 24,
   "id": "5e507ee1-26c5-4276-8d41-c6ca78899048",
   "metadata": {},
   "outputs": [
    {
     "name": "stdout",
     "output_type": "stream",
     "text": [
      "{'id': 'open-saber.registry.read', 'ver': '1.0', 'ets': 1652181409721, 'params': {'resmsgid': '', 'msgid': '1d0d2eab-a5a7-48c6-9cd2-9029c3a93423', 'err': '', 'status': 'SUCCESSFUL', 'errmsg': ''}, 'responseCode': 'OK', 'result': {'content': '{\"$schema\":\"http://json-schema.org/draft-07/schema\",\"type\":\"object\",\"properties\":{\"TrainingCertificate\":{\"$ref\":\"#/definitions/TrainingCertificate\"}},\"required\":[\"TrainingCertificate\"],\"title\":\"TrainingCertificate\",\"definitions\":{\"TrainingCertificate\":{\"$id\":\"#/properties/TrainingCertificate\",\"type\":\"object\",\"title\":\"The TrainingCertificate Schema\",\"required\":[\"name\",\"contact\"],\"properties\":{\"name\":{\"type\":\"string\"},\"trainingTitle\":{\"type\":\"string\"},\"contact\":{\"type\":\"string\"},\"createdAt\":{\"type\":\"string\",\"format\":\"date\"},\"note\":{\"type\":\"string\"}}}},\"_osConfig\":{\"uniqueIndexFields\":[\"contact\"],\"ownershipAttributes\":[],\"roles\":[],\"inviteRoles\":[\"anonymous\"],\"enableLogin\":false,\"credentialTemplate\":{\"@context\":[\"https://www.w3.org/2018/credentials/v1\",\"https://gist.githubusercontent.com/dileepbapat/eb932596a70f75016411cc871113a789/raw/498e5af1d94784f114b32c1ab827f951a8a24def/skill\"],\"type\":[\"VerifiableCredential\"],\"issuanceDate\":\"2021-08-27T10:57:57.237Z\",\"credentialSubject\":{\"type\":\"Person\",\"name\":\"{{name}}\",\"trainedOn\":\"{{trainingTitle}}\"},\"issuer\":\"did:web:sunbirdrc.dev/vc/skill\"},\"certificateTemplates\":{\"html\":\"did:path:Issuer/1-551a4600-8071-4b28-a094-7823c62c9c53/templates/documents/08b41928-fc75-4be4-abed-321422f65c36-certificate.html\",\"svg\":\"did:url:https://raw.githubusercontent.com/dileepbapat/ref-sunbirdrc-certificate/main/schemas/templates/TrainingCertificate.svg\"}}}', 'title': 'TrainingCertificate', 'subSchemaNames': {}, 'osSchemaConfiguration': {'privateFields': [], 'signedFields': [], 'indexFields': [], 'uniqueIndexFields': ['contact'], 'systemFields': [], 'publicFields': [], 'internalFields': [], 'roles': [], 'inviteRoles': ['anonymous'], 'deleteRoles': [], 'ownershipAttributes': [], 'attestationFields': {}, 'attestationPolicies': [], 'credentialTemplate': {'@context': ['https://www.w3.org/2018/credentials/v1', 'https://gist.githubusercontent.com/dileepbapat/eb932596a70f75016411cc871113a789/raw/498e5af1d94784f114b32c1ab827f951a8a24def/skill'], 'type': ['VerifiableCredential'], 'issuanceDate': '2021-08-27T10:57:57.237Z', 'credentialSubject': {'type': 'Person', 'name': '{{name}}', 'trainedOn': '{{trainingTitle}}'}, 'issuer': 'did:web:sunbirdrc.dev/vc/skill'}, 'certificateTemplates': {'html': 'did:path:Issuer/1-551a4600-8071-4b28-a094-7823c62c9c53/templates/documents/08b41928-fc75-4be4-abed-321422f65c36-certificate.html', 'svg': 'did:url:https://raw.githubusercontent.com/dileepbapat/ref-sunbirdrc-certificate/main/schemas/templates/TrainingCertificate.svg'}, 'enableLogin': False, 'enableSearch': True, 'allTheAttestorEntities': []}}}\n",
      "{'content': '{\"$schema\":\"http://json-schema.org/draft-07/schema\",\"type\":\"object\",\"properties\":{\"TrainingCertificate\":{\"$ref\":\"#/definitions/TrainingCertificate\"}},\"required\":[\"TrainingCertificate\"],\"title\":\"TrainingCertificate\",\"definitions\":{\"TrainingCertificate\":{\"$id\":\"#/properties/TrainingCertificate\",\"type\":\"object\",\"title\":\"The TrainingCertificate Schema\",\"required\":[\"name\",\"contact\"],\"properties\":{\"name\":{\"type\":\"string\"},\"trainingTitle\":{\"type\":\"string\"},\"contact\":{\"type\":\"string\"},\"createdAt\":{\"type\":\"string\",\"format\":\"date\"},\"note\":{\"type\":\"string\"}}}},\"_osConfig\":{\"uniqueIndexFields\":[\"contact\"],\"ownershipAttributes\":[],\"roles\":[],\"inviteRoles\":[\"anonymous\"],\"enableLogin\":false,\"credentialTemplate\":{\"@context\":[\"https://www.w3.org/2018/credentials/v1\",\"https://gist.githubusercontent.com/dileepbapat/eb932596a70f75016411cc871113a789/raw/498e5af1d94784f114b32c1ab827f951a8a24def/skill\"],\"type\":[\"VerifiableCredential\"],\"issuanceDate\":\"2021-08-27T10:57:57.237Z\",\"credentialSubject\":{\"type\":\"Person\",\"name\":\"{{name}}\",\"trainedOn\":\"{{trainingTitle}}\"},\"issuer\":\"did:web:sunbirdrc.dev/vc/skill\"},\"certificateTemplates\":{\"html\":\"did:path:Issuer/1-551a4600-8071-4b28-a094-7823c62c9c53/templates/documents/08b41928-fc75-4be4-abed-321422f65c36-certificate.html\",\"svg\":\"did:url:https://raw.githubusercontent.com/dileepbapat/ref-sunbirdrc-certificate/main/schemas/templates/TrainingCertificate.svg\"}}}', 'title': 'TrainingCertificate', 'subSchemaNames': {}, 'osSchemaConfiguration': {'privateFields': [], 'signedFields': [], 'indexFields': [], 'uniqueIndexFields': ['contact'], 'systemFields': [], 'publicFields': [], 'internalFields': [], 'roles': [], 'inviteRoles': ['anonymous'], 'deleteRoles': [], 'ownershipAttributes': [], 'attestationFields': {}, 'attestationPolicies': [], 'credentialTemplate': {'@context': ['https://www.w3.org/2018/credentials/v1', 'https://gist.githubusercontent.com/dileepbapat/eb932596a70f75016411cc871113a789/raw/498e5af1d94784f114b32c1ab827f951a8a24def/skill'], 'type': ['VerifiableCredential'], 'issuanceDate': '2021-08-27T10:57:57.237Z', 'credentialSubject': {'type': 'Person', 'name': '{{name}}', 'trainedOn': '{{trainingTitle}}'}, 'issuer': 'did:web:sunbirdrc.dev/vc/skill'}, 'certificateTemplates': {'html': 'did:path:Issuer/1-551a4600-8071-4b28-a094-7823c62c9c53/templates/documents/08b41928-fc75-4be4-abed-321422f65c36-certificate.html', 'svg': 'did:url:https://raw.githubusercontent.com/dileepbapat/ref-sunbirdrc-certificate/main/schemas/templates/TrainingCertificate.svg'}, 'enableLogin': False, 'enableSearch': True, 'allTheAttestorEntities': []}}\n",
      "True\n"
     ]
    }
   ],
   "source": [
    "headers = {\n",
    "  'Content-Type': 'application/json'\n",
    "}\n",
    "\n",
    "response = requests.request(\"GET\", registryBase + \"registry/TrainingCertificate\", headers=headers)\n",
    "print(response.json())\n",
    "if \"result\" in response.json():\n",
    "    print(response.json()[\"result\"])\n",
    "    print(\"result\" in response.json())"
   ]
  },
  {
   "cell_type": "markdown",
   "id": "c54787df-fab0-4018-a279-e0813ce32ed9",
   "metadata": {},
   "source": [
    "# Tests for newly added schem is here:"
   ]
  },
  {
   "cell_type": "markdown",
   "id": "8563a4bd",
   "metadata": {},
   "source": [
    "[TrainingCertifcate ](certificate-api.ipynb)"
   ]
  },
  {
   "cell_type": "code",
   "execution_count": null,
   "id": "71b378ad",
   "metadata": {},
   "outputs": [],
   "source": []
  }
 ],
 "metadata": {
  "kernelspec": {
   "display_name": "Python 3 (ipykernel)",
   "language": "python",
   "name": "python3"
  },
  "language_info": {
   "codemirror_mode": {
    "name": "ipython",
    "version": 3
   },
   "file_extension": ".py",
   "mimetype": "text/x-python",
   "name": "python",
   "nbconvert_exporter": "python",
   "pygments_lexer": "ipython3",
   "version": "3.9.12"
  }
 },
 "nbformat": 4,
 "nbformat_minor": 5
}
