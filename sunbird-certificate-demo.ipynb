{
 "cells": [
  {
   "cell_type": "code",
   "execution_count": 3,
   "id": "c9e62b35-8012-4614-9d3d-e9212e7b698f",
   "metadata": {},
   "outputs": [],
   "source": [
    "import requests\n",
    "import random\n",
    "import json\n"
   ]
  },
  {
   "cell_type": "code",
   "execution_count": null,
   "id": "626b7b38-1773-4d3d-b1df-2e53f9372700",
   "metadata": {},
   "outputs": [],
   "source": []
  },
  {
   "cell_type": "code",
   "execution_count": 4,
   "id": "bc7348d4-396b-4319-b6f8-47c210dc0768",
   "metadata": {},
   "outputs": [],
   "source": [
    "baseUrl = \"http://localhost:8081/api/v1/\"\n",
    "keycloakUrl = \"https://ndear.xiv.in\""
   ]
  },
  {
   "cell_type": "markdown",
   "id": "ff7ffb5b-6200-41c6-98c9-794436daba85",
   "metadata": {},
   "source": [
    "# create a issuer"
   ]
  },
  {
   "cell_type": "code",
   "execution_count": 5,
   "id": "8829ed91-6897-4050-8ac7-9e904d83818a",
   "metadata": {},
   "outputs": [
    {
     "name": "stdout",
     "output_type": "stream",
     "text": [
      "{\"id\":\"sunbird-rc.registry.invite\",\"ver\":\"1.0\",\"ets\":1646206877542,\"params\":{\"resmsgid\":\"\",\"msgid\":\"de2b9f5d-0c63-4dd5-9596-73a93fc03fa8\",\"err\":\"\",\"status\":\"UNSUCCESSFUL\",\"errmsg\":\"Username already invited / registered for Issuer\"},\"responseCode\":\"OK\"}\n"
     ]
    },
    {
     "ename": "KeyError",
     "evalue": "'result'",
     "output_type": "error",
     "traceback": [
      "\u001b[0;31m---------------------------------------------------------------------------\u001b[0m",
      "\u001b[0;31mKeyError\u001b[0m                                  Traceback (most recent call last)",
      "\u001b[0;32m/var/folders/1c/_2dh0xbx1k9fzwx2pwfhgxrr0000gn/T/ipykernel_8515/1126994075.py\u001b[0m in \u001b[0;36m<module>\u001b[0;34m\u001b[0m\n\u001b[1;32m     17\u001b[0m \u001b[0;34m\u001b[0m\u001b[0m\n\u001b[1;32m     18\u001b[0m \u001b[0mprint\u001b[0m\u001b[0;34m(\u001b[0m\u001b[0mresponse\u001b[0m\u001b[0;34m.\u001b[0m\u001b[0mtext\u001b[0m\u001b[0;34m)\u001b[0m\u001b[0;34m\u001b[0m\u001b[0;34m\u001b[0m\u001b[0m\n\u001b[0;32m---> 19\u001b[0;31m \u001b[0missuerOsid\u001b[0m \u001b[0;34m=\u001b[0m \u001b[0mresponse\u001b[0m\u001b[0;34m.\u001b[0m\u001b[0mjson\u001b[0m\u001b[0;34m(\u001b[0m\u001b[0;34m)\u001b[0m\u001b[0;34m[\u001b[0m\u001b[0;34m\"result\"\u001b[0m\u001b[0;34m]\u001b[0m\u001b[0;34m[\u001b[0m\u001b[0;34m\"Issuer\"\u001b[0m\u001b[0;34m]\u001b[0m\u001b[0;34m[\u001b[0m\u001b[0;34m\"osid\"\u001b[0m\u001b[0;34m]\u001b[0m\u001b[0;34m\u001b[0m\u001b[0;34m\u001b[0m\u001b[0m\n\u001b[0m",
      "\u001b[0;31mKeyError\u001b[0m: 'result'"
     ]
    }
   ],
   "source": [
    "issuerId = \"qw7@mailinator.com\"\n",
    "issuerRequestBody = {\n",
    "  \"contactDetails\": {\n",
    "    \"email\": issuerId,\n",
    "    \"mobile\": issuerId\n",
    "  },\n",
    "  \"schemas\": [],\n",
    "  \"websiteUrl\": \"https://picsum.photos/200\",\n",
    "  \"logoUrl\": \"https://picsum.photos/200\",\n",
    "  \"name\": \"Issuer\"\n",
    "}\n",
    "headers = {\n",
    "  'Content-Type': 'application/json'\n",
    "}\n",
    "\n",
    "response = requests.request(\"POST\", baseUrl + \"Issuer/invite\", headers=headers, json=issuerRequestBody)\n",
    "\n",
    "print(response.text)\n",
    "issuerOsid = response.json()[\"result\"][\"Issuer\"][\"osid\"]"
   ]
  },
  {
   "cell_type": "markdown",
   "id": "28ce5762-04ab-4fb2-b4ee-180a57e2d769",
   "metadata": {},
   "source": [
    "# get issuer token\n"
   ]
  },
  {
   "cell_type": "code",
   "execution_count": 16,
   "id": "959b097e-bc94-449c-87e9-fbb12cd3694f",
   "metadata": {},
   "outputs": [
    {
     "name": "stdout",
     "output_type": "stream",
     "text": [
      "eyJhbGciOiJSUzI1NiIsInR5cCIgOiAiSldUIiwia2lkIiA6ICJVVG9zZ2JYUFZHdmk2a19tVnVEa1oxTTZHeGNtYnBDZW9lTHJBUjJKcC04In0.eyJleHAiOjE2NDYyMDk1MzEsImlhdCI6MTY0NjIwODkzMSwianRpIjoiMzk2YjE5YmItNWE4Mi00Y2IxLTk0NWYtNjU2NzZiODI4MjYyIiwiaXNzIjoiaHR0cHM6Ly9uZGVhci54aXYuaW4vYXV0aC9yZWFsbXMvc3VuYmlyZC1yYyIsImF1ZCI6ImFjY291bnQiLCJzdWIiOiI3MTlkMmY4YS1mOWZkLTQxYzMtOWM3Ny1iZWNhOWQ1YjhmZmQiLCJ0eXAiOiJCZWFyZXIiLCJhenAiOiJyZWdpc3RyeS1mcm9udGVuZCIsInNlc3Npb25fc3RhdGUiOiJlMGY0ZmQzZi00MDE5LTRlOGMtYmIxYS1jNGY0MGU1ZTMwYzMiLCJhY3IiOiIxIiwiYWxsb3dlZC1vcmlnaW5zIjpbImh0dHBzOi8vbG9jYWxob3N0OjQyMDIiLCJodHRwOi8vbG9jYWxob3N0OjQyMDIiLCJodHRwczovL2xvY2FsaG9zdDo0MjAwIiwiaHR0cHM6Ly9uZGVhci54aXYuaW4iLCJodHRwOi8vbG9jYWxob3N0OjQyMDAiLCJodHRwOi8vbmRlYXIueGl2LmluIiwiaHR0cDovLzIwLjE5OC42NC4xMjgiXSwicmVhbG1fYWNjZXNzIjp7InJvbGVzIjpbIm9mZmxpbmVfYWNjZXNzIiwiYWRtaW4iLCJ1bWFfYXV0aG9yaXphdGlvbiIsImRlZmF1bHQtcm9sZXMtbmRlYXIiXX0sInJlc291cmNlX2FjY2VzcyI6eyJhY2NvdW50Ijp7InJvbGVzIjpbIm1hbmFnZS1hY2NvdW50IiwibWFuYWdlLWFjY291bnQtbGlua3MiLCJ2aWV3LXByb2ZpbGUiXX19LCJzY29wZSI6InByb2ZpbGUgZW1haWwiLCJlbWFpbF92ZXJpZmllZCI6ZmFsc2UsInByZWZlcnJlZF91c2VybmFtZSI6InF3N0BtYWlsaW5hdG9yLmNvbSIsImVudGl0eSI6WyJJc3N1ZXIiXSwiZW1haWwiOiJxdzdAbWFpbGluYXRvci5jb20ifQ.LZEgyO81UcC3SyAfzVJGphbrPQclmfEzpjJtfWtHr8bm5wHJTnWOkOEH8Smw95uK7MTPhB3mgw7lPUCacY7udOTCu8-3gNZhG0EnJZbosbykEf4yZzvVAkvKbgU8Lc9Kom6cPdajFj2s_Sl3Jp85dTWdQHYZ06h2dCqHEwtWEXZSTg5b4F2JZOuqe25aOhfTRxY1uEYQKtHrUbHLAapurRtawAcRfh2AAJ7ZKPiuSJ2E1ytYGD5V0xPAB5ukDi0769PIP9XcD2AafcTD8ctiiJbdJKx97bqYgxzVGqw0GN2Uv3mtpsczdTFLLiCem2W-KcCD2LxY5pqWZOx1DfpKBw\n"
     ]
    }
   ],
   "source": [
    "def getToken(userId):\n",
    "    headers = {\n",
    "        'content-type': 'application/x-www-form-urlencoded',\n",
    "    }\n",
    "\n",
    "    data = {\n",
    "      'client_id': 'registry-frontend',\n",
    "      'username': userId,\n",
    "      'password': '123',\n",
    "      'grant_type': 'password'\n",
    "    }\n",
    "\n",
    "    response = requests.post('%s/auth/realms/sunbird-rc/protocol/openid-connect/token'%(keycloakUrl), headers=headers, data=data)\n",
    "#     print(response.json())\n",
    "#     print(response.status_code)\n",
    "    token = response.json()[\"access_token\"]\n",
    "    return token\n",
    "\n",
    "token = getToken(issuerId)\n",
    "print(token)"
   ]
  },
  {
   "cell_type": "markdown",
   "id": "52c10e0b-2c99-44dd-932e-b1ccc3dde242",
   "metadata": {},
   "source": [
    "# create a schema"
   ]
  },
  {
   "cell_type": "code",
   "execution_count": 17,
   "id": "e35ee24c-0e23-4137-81d1-eb21eb2b1a97",
   "metadata": {},
   "outputs": [
    {
     "name": "stdout",
     "output_type": "stream",
     "text": [
      "{\"id\":\"sunbird-rc.registry.create\",\"ver\":\"1.0\",\"ets\":1646208935629,\"params\":{\"resmsgid\":\"\",\"msgid\":\"4f8b3b22-50fc-4e95-a01b-498d049684a7\",\"err\":\"\",\"status\":\"SUCCESSFUL\",\"errmsg\":\"\"},\"responseCode\":\"OK\",\"result\":{\"Schema\":{\"osid\":\"1-779584d7-4915-4f92-b7bd-36dbb191428e\"}}}\n"
     ]
    }
   ],
   "source": [
    "\n",
    "schemaRequestBody = {\n",
    "  \"name\": \"schema8\",\n",
    "    \"schema\": \"{\\n  \\\"$schema\\\": \\\"http://json-schema.org/draft-07/schema\\\",\\n  \\\"type\\\": \\\"object\\\",\\n  \\\"properties\\\": {\\n    \\\"TrainingCertificate\\\": {\\n      \\\"$ref\\\": \\\"#/definitions/TrainingCertificate\\\"\\n    }\\n  },\\n  \\\"required\\\": [\\n    \\\"TrainingCertificate\\\"\\n  ],\\n  \\\"title\\\": \\\"TrainingCertificate\\\",\\n  \\\"definitions\\\": {\\n    \\\"TrainingCertificate\\\": {\\n      \\\"$id\\\": \\\"#/properties/TrainingCertificate\\\",\\n      \\\"type\\\": \\\"object\\\",\\n      \\\"title\\\": \\\"The TrainingCertificate Schema\\\",\\n      \\\"required\\\": [\\n        \\\"name\\\",\\n        \\\"contact\\\"\\n      ],\\n      \\\"properties\\\": {\\n        \\\"name\\\": {\\n          \\\"type\\\": \\\"string\\\"\\n        },\\n        \\\"trainingTitle\\\": {\\n          \\\"type\\\": \\\"string\\\"\\n        },\\n        \\\"contact\\\": {\\n          \\\"type\\\": \\\"string\\\"\\n        },\\n        \\\"date\\\": {\\n          \\\"type\\\": \\\"string\\\",\\n          \\\"format\\\": \\\"date\\\"\\n        },\\n        \\\"note\\\": {\\n          \\\"type\\\": \\\"string\\\"\\n        }\\n      }\\n    }\\n  },\\n  \\\"_osConfig\\\": {\\n    \\\"uniqueIndexFields\\\": [\\n      \\\"contact\\\"\\n    ],\\n    \\\"ownershipAttributes\\\": [],\\n    \\\"roles\\\": [\\n      \\\"admin\\\"\\n    ],\\n    \\\"inviteRoles\\\": [\\n      \\\"anonymous\\\"\\n    ],\\n    \\\"enableLogin\\\": false,\\n    \\\"credentialTemplate\\\": {\\n      \\\"@context\\\": [\\n        \\\"https://www.w3.org/2018/credentials/v1\\\",\\n        \\\"https://gist.githubusercontent.com/dileepbapat/eb932596a70f75016411cc871113a789/raw/498e5af1d94784f114b32c1ab827f951a8a24def/skill\\\"\\n      ],\\n      \\\"type\\\": [\\n        \\\"VerifiableCredential\\\"\\n      ],\\n      \\\"issuanceDate\\\": \\\"2021-08-27T10:57:57.237Z\\\",\\n      \\\"credentialSubject\\\": {\\n        \\\"type\\\": \\\"Person\\\",\\n        \\\"name\\\": \\\"{{name}}\\\",\\n        \\\"trainedOn\\\": \\\"{{trainingTitle}}\\\"\\n      },\\n      \\\"issuer\\\": \\\"did:web:sunbirdrc.dev/vc/skill\\\"\\n    }\\n  }\\n}\"\n",
    "}\n",
    "headers = {\n",
    "  'Content-Type': 'application/json',\n",
    "    'Authorization': 'Bearer ' + token\n",
    "}\n",
    "\n",
    "response = requests.request(\"POST\", baseUrl + \"Schema\", headers=headers, json=schemaRequestBody)\n",
    "\n",
    "print(response.text)"
   ]
  },
  {
   "cell_type": "code",
   "execution_count": 14,
   "id": "2afc69be-7116-4616-960b-ce36d83757b3",
   "metadata": {},
   "outputs": [
    {
     "data": {
      "text/plain": [
       "<Response [401]>"
      ]
     },
     "execution_count": 14,
     "metadata": {},
     "output_type": "execute_result"
    }
   ],
   "source": [
    "response"
   ]
  },
  {
   "cell_type": "markdown",
   "id": "2675f607-b28d-460a-8764-dc2b77fb5c1f",
   "metadata": {},
   "source": [
    "# get all schemas"
   ]
  },
  {
   "cell_type": "code",
   "execution_count": 15,
   "id": "3f9386dc-0f0b-4624-ae05-0c4d0ef8c418",
   "metadata": {},
   "outputs": [
    {
     "ename": "JSONDecodeError",
     "evalue": "Expecting value: line 1 column 1 (char 0)",
     "output_type": "error",
     "traceback": [
      "\u001b[0;31m---------------------------------------------------------------------------\u001b[0m",
      "\u001b[0;31mJSONDecodeError\u001b[0m                           Traceback (most recent call last)",
      "\u001b[0;32m/var/folders/1c/_2dh0xbx1k9fzwx2pwfhgxrr0000gn/T/ipykernel_8515/144743474.py\u001b[0m in \u001b[0;36m<module>\u001b[0;34m\u001b[0m\n\u001b[1;32m     10\u001b[0m \u001b[0mresponse\u001b[0m \u001b[0;34m=\u001b[0m \u001b[0mrequests\u001b[0m\u001b[0;34m.\u001b[0m\u001b[0mrequest\u001b[0m\u001b[0;34m(\u001b[0m\u001b[0;34m\"POST\"\u001b[0m\u001b[0;34m,\u001b[0m \u001b[0mbaseUrl\u001b[0m \u001b[0;34m+\u001b[0m \u001b[0;34m\"Schema/search\"\u001b[0m\u001b[0;34m,\u001b[0m \u001b[0mheaders\u001b[0m\u001b[0;34m=\u001b[0m\u001b[0mheaders\u001b[0m\u001b[0;34m,\u001b[0m \u001b[0mjson\u001b[0m\u001b[0;34m=\u001b[0m\u001b[0mschemaRequestBody\u001b[0m\u001b[0;34m)\u001b[0m\u001b[0;34m\u001b[0m\u001b[0;34m\u001b[0m\u001b[0m\n\u001b[1;32m     11\u001b[0m \u001b[0;34m\u001b[0m\u001b[0m\n\u001b[0;32m---> 12\u001b[0;31m \u001b[0mprint\u001b[0m\u001b[0;34m(\u001b[0m\u001b[0mresponse\u001b[0m\u001b[0;34m.\u001b[0m\u001b[0mjson\u001b[0m\u001b[0;34m(\u001b[0m\u001b[0;34m)\u001b[0m\u001b[0;34m)\u001b[0m\u001b[0;34m\u001b[0m\u001b[0;34m\u001b[0m\u001b[0m\n\u001b[0m\u001b[1;32m     13\u001b[0m \u001b[0;32mfor\u001b[0m \u001b[0mj\u001b[0m \u001b[0;32min\u001b[0m \u001b[0mresponse\u001b[0m\u001b[0;34m.\u001b[0m\u001b[0mjson\u001b[0m\u001b[0;34m(\u001b[0m\u001b[0;34m)\u001b[0m\u001b[0;34m:\u001b[0m\u001b[0;34m\u001b[0m\u001b[0;34m\u001b[0m\u001b[0m\n\u001b[1;32m     14\u001b[0m     \u001b[0mprint\u001b[0m\u001b[0;34m(\u001b[0m\u001b[0mj\u001b[0m\u001b[0;34m[\u001b[0m\u001b[0;34m'name'\u001b[0m\u001b[0;34m]\u001b[0m\u001b[0;34m)\u001b[0m\u001b[0;34m\u001b[0m\u001b[0;34m\u001b[0m\u001b[0m\n",
      "\u001b[0;32m/usr/local/lib/python3.9/site-packages/requests/models.py\u001b[0m in \u001b[0;36mjson\u001b[0;34m(self, **kwargs)\u001b[0m\n\u001b[1;32m    898\u001b[0m                     \u001b[0;31m# used.\u001b[0m\u001b[0;34m\u001b[0m\u001b[0;34m\u001b[0m\u001b[0;34m\u001b[0m\u001b[0m\n\u001b[1;32m    899\u001b[0m                     \u001b[0;32mpass\u001b[0m\u001b[0;34m\u001b[0m\u001b[0;34m\u001b[0m\u001b[0m\n\u001b[0;32m--> 900\u001b[0;31m         \u001b[0;32mreturn\u001b[0m \u001b[0mcomplexjson\u001b[0m\u001b[0;34m.\u001b[0m\u001b[0mloads\u001b[0m\u001b[0;34m(\u001b[0m\u001b[0mself\u001b[0m\u001b[0;34m.\u001b[0m\u001b[0mtext\u001b[0m\u001b[0;34m,\u001b[0m \u001b[0;34m**\u001b[0m\u001b[0mkwargs\u001b[0m\u001b[0;34m)\u001b[0m\u001b[0;34m\u001b[0m\u001b[0;34m\u001b[0m\u001b[0m\n\u001b[0m\u001b[1;32m    901\u001b[0m \u001b[0;34m\u001b[0m\u001b[0m\n\u001b[1;32m    902\u001b[0m     \u001b[0;34m@\u001b[0m\u001b[0mproperty\u001b[0m\u001b[0;34m\u001b[0m\u001b[0;34m\u001b[0m\u001b[0m\n",
      "\u001b[0;32m/usr/local/Cellar/python@3.9/3.9.5/Frameworks/Python.framework/Versions/3.9/lib/python3.9/json/__init__.py\u001b[0m in \u001b[0;36mloads\u001b[0;34m(s, cls, object_hook, parse_float, parse_int, parse_constant, object_pairs_hook, **kw)\u001b[0m\n\u001b[1;32m    344\u001b[0m             \u001b[0mparse_int\u001b[0m \u001b[0;32mis\u001b[0m \u001b[0;32mNone\u001b[0m \u001b[0;32mand\u001b[0m \u001b[0mparse_float\u001b[0m \u001b[0;32mis\u001b[0m \u001b[0;32mNone\u001b[0m \u001b[0;32mand\u001b[0m\u001b[0;34m\u001b[0m\u001b[0;34m\u001b[0m\u001b[0m\n\u001b[1;32m    345\u001b[0m             parse_constant is None and object_pairs_hook is None and not kw):\n\u001b[0;32m--> 346\u001b[0;31m         \u001b[0;32mreturn\u001b[0m \u001b[0m_default_decoder\u001b[0m\u001b[0;34m.\u001b[0m\u001b[0mdecode\u001b[0m\u001b[0;34m(\u001b[0m\u001b[0ms\u001b[0m\u001b[0;34m)\u001b[0m\u001b[0;34m\u001b[0m\u001b[0;34m\u001b[0m\u001b[0m\n\u001b[0m\u001b[1;32m    347\u001b[0m     \u001b[0;32mif\u001b[0m \u001b[0mcls\u001b[0m \u001b[0;32mis\u001b[0m \u001b[0;32mNone\u001b[0m\u001b[0;34m:\u001b[0m\u001b[0;34m\u001b[0m\u001b[0;34m\u001b[0m\u001b[0m\n\u001b[1;32m    348\u001b[0m         \u001b[0mcls\u001b[0m \u001b[0;34m=\u001b[0m \u001b[0mJSONDecoder\u001b[0m\u001b[0;34m\u001b[0m\u001b[0;34m\u001b[0m\u001b[0m\n",
      "\u001b[0;32m/usr/local/Cellar/python@3.9/3.9.5/Frameworks/Python.framework/Versions/3.9/lib/python3.9/json/decoder.py\u001b[0m in \u001b[0;36mdecode\u001b[0;34m(self, s, _w)\u001b[0m\n\u001b[1;32m    335\u001b[0m \u001b[0;34m\u001b[0m\u001b[0m\n\u001b[1;32m    336\u001b[0m         \"\"\"\n\u001b[0;32m--> 337\u001b[0;31m         \u001b[0mobj\u001b[0m\u001b[0;34m,\u001b[0m \u001b[0mend\u001b[0m \u001b[0;34m=\u001b[0m \u001b[0mself\u001b[0m\u001b[0;34m.\u001b[0m\u001b[0mraw_decode\u001b[0m\u001b[0;34m(\u001b[0m\u001b[0ms\u001b[0m\u001b[0;34m,\u001b[0m \u001b[0midx\u001b[0m\u001b[0;34m=\u001b[0m\u001b[0m_w\u001b[0m\u001b[0;34m(\u001b[0m\u001b[0ms\u001b[0m\u001b[0;34m,\u001b[0m \u001b[0;36m0\u001b[0m\u001b[0;34m)\u001b[0m\u001b[0;34m.\u001b[0m\u001b[0mend\u001b[0m\u001b[0;34m(\u001b[0m\u001b[0;34m)\u001b[0m\u001b[0;34m)\u001b[0m\u001b[0;34m\u001b[0m\u001b[0;34m\u001b[0m\u001b[0m\n\u001b[0m\u001b[1;32m    338\u001b[0m         \u001b[0mend\u001b[0m \u001b[0;34m=\u001b[0m \u001b[0m_w\u001b[0m\u001b[0;34m(\u001b[0m\u001b[0ms\u001b[0m\u001b[0;34m,\u001b[0m \u001b[0mend\u001b[0m\u001b[0;34m)\u001b[0m\u001b[0;34m.\u001b[0m\u001b[0mend\u001b[0m\u001b[0;34m(\u001b[0m\u001b[0;34m)\u001b[0m\u001b[0;34m\u001b[0m\u001b[0;34m\u001b[0m\u001b[0m\n\u001b[1;32m    339\u001b[0m         \u001b[0;32mif\u001b[0m \u001b[0mend\u001b[0m \u001b[0;34m!=\u001b[0m \u001b[0mlen\u001b[0m\u001b[0;34m(\u001b[0m\u001b[0ms\u001b[0m\u001b[0;34m)\u001b[0m\u001b[0;34m:\u001b[0m\u001b[0;34m\u001b[0m\u001b[0;34m\u001b[0m\u001b[0m\n",
      "\u001b[0;32m/usr/local/Cellar/python@3.9/3.9.5/Frameworks/Python.framework/Versions/3.9/lib/python3.9/json/decoder.py\u001b[0m in \u001b[0;36mraw_decode\u001b[0;34m(self, s, idx)\u001b[0m\n\u001b[1;32m    353\u001b[0m             \u001b[0mobj\u001b[0m\u001b[0;34m,\u001b[0m \u001b[0mend\u001b[0m \u001b[0;34m=\u001b[0m \u001b[0mself\u001b[0m\u001b[0;34m.\u001b[0m\u001b[0mscan_once\u001b[0m\u001b[0;34m(\u001b[0m\u001b[0ms\u001b[0m\u001b[0;34m,\u001b[0m \u001b[0midx\u001b[0m\u001b[0;34m)\u001b[0m\u001b[0;34m\u001b[0m\u001b[0;34m\u001b[0m\u001b[0m\n\u001b[1;32m    354\u001b[0m         \u001b[0;32mexcept\u001b[0m \u001b[0mStopIteration\u001b[0m \u001b[0;32mas\u001b[0m \u001b[0merr\u001b[0m\u001b[0;34m:\u001b[0m\u001b[0;34m\u001b[0m\u001b[0;34m\u001b[0m\u001b[0m\n\u001b[0;32m--> 355\u001b[0;31m             \u001b[0;32mraise\u001b[0m \u001b[0mJSONDecodeError\u001b[0m\u001b[0;34m(\u001b[0m\u001b[0;34m\"Expecting value\"\u001b[0m\u001b[0;34m,\u001b[0m \u001b[0ms\u001b[0m\u001b[0;34m,\u001b[0m \u001b[0merr\u001b[0m\u001b[0;34m.\u001b[0m\u001b[0mvalue\u001b[0m\u001b[0;34m)\u001b[0m \u001b[0;32mfrom\u001b[0m \u001b[0;32mNone\u001b[0m\u001b[0;34m\u001b[0m\u001b[0;34m\u001b[0m\u001b[0m\n\u001b[0m\u001b[1;32m    356\u001b[0m         \u001b[0;32mreturn\u001b[0m \u001b[0mobj\u001b[0m\u001b[0;34m,\u001b[0m \u001b[0mend\u001b[0m\u001b[0;34m\u001b[0m\u001b[0;34m\u001b[0m\u001b[0m\n",
      "\u001b[0;31mJSONDecodeError\u001b[0m: Expecting value: line 1 column 1 (char 0)"
     ]
    }
   ],
   "source": [
    "schemaRequestBody = {\n",
    "  \"entity\": \"Schema\",\n",
    "    \"filters\": {}\n",
    "}\n",
    "headers = {\n",
    "  'Content-Type': 'application/json',\n",
    "    'Authorization': 'Bearer ' + token\n",
    "}\n",
    "\n",
    "response = requests.request(\"POST\", baseUrl + \"Schema/search\", headers=headers, json=schemaRequestBody)\n",
    "\n",
    "print(response.json())\n",
    "for j in response.json():\n",
    "    print(j['name'])"
   ]
  },
  {
   "cell_type": "code",
   "execution_count": 113,
   "id": "ea111905-0af2-411a-b154-dbccf5f2c89e",
   "metadata": {},
   "outputs": [
    {
     "name": "stdout",
     "output_type": "stream",
     "text": [
      "<Response [200]>\n",
      "[{'osUpdatedAt': '2022-02-28T11:51:56.380522Z', 'osCreatedAt': '2022-02-28T11:51:56.380522Z', 'osUpdatedBy': '0c36eec8-09f1-46f4-9055-a1c0660f351a', 'name': 'schema4', 'osCreatedBy': '0c36eec8-09f1-46f4-9055-a1c0660f351a', 'osid': '1-7ac42329-3b8d-4b1d-931b-4838c1aa40c2', 'osOwner': ['0c36eec8-09f1-46f4-9055-a1c0660f351a']}]\n",
      "1\n"
     ]
    }
   ],
   "source": [
    "schemaRequestBody = {\n",
    "  \"entity\": \"Schema\",\n",
    "    \"filters\": {}\n",
    "}\n",
    "headers = {\n",
    "  'Content-Type': 'application/json',\n",
    "    'Authorization': 'Bearer ' + token\n",
    "}\n",
    "\n",
    "response = requests.request(\"GET\", baseUrl + \"Schema\", headers=headers)\n",
    "print(response)\n",
    "print(response.json())\n",
    "print(len(response.json()))"
   ]
  },
  {
   "cell_type": "markdown",
   "id": "20d0ba59-8def-4962-b08e-416b4a697dfd",
   "metadata": {},
   "source": [
    "# upload template"
   ]
  },
  {
   "cell_type": "code",
   "execution_count": 123,
   "id": "b5310fff-cbab-4f31-8099-eee5304d65fe",
   "metadata": {},
   "outputs": [
    {
     "name": "stdout",
     "output_type": "stream",
     "text": [
      "<Response [200]>\n",
      "{\"documentLocations\":[\"Issuer/1-f3143e6d-fc87-4edc-9731-e142de5f0b52/templates/documents/089d205c-71cc-4be1-a13c-75f1b121fa71-certificate.html\"],\"errors\":[]}\n"
     ]
    }
   ],
   "source": [
    "\n",
    "url = \"http://localhost:8081/api/v1/Issuer/1-9a7f72a0-b48d-48c8-b538-d46300b3f859/attestation/documents\"\n",
    "\n",
    "payload={}\n",
    "files=[\n",
    "  ('files',('certificate.html',open('certificate.html','rb'),'application/pdf'))\n",
    "]\n",
    "headers = {\n",
    "  'Authorization': 'Bearer ' + token\n",
    "}\n",
    "\n",
    "response = requests.request(\"POST\", baseUrl + \"Issuer/\" + issuerOsid + \"/templates/documents\", headers=headers, data=payload, files=files)\n",
    "print(response)\n",
    "print(response.text)\n"
   ]
  },
  {
   "cell_type": "code",
   "execution_count": null,
   "id": "e5c1b89c-7dc5-4116-949d-5ce4d5793431",
   "metadata": {},
   "outputs": [],
   "source": []
  }
 ],
 "metadata": {
  "kernelspec": {
   "display_name": "Python 3 (ipykernel)",
   "language": "python",
   "name": "python3"
  },
  "language_info": {
   "codemirror_mode": {
    "name": "ipython",
    "version": 3
   },
   "file_extension": ".py",
   "mimetype": "text/x-python",
   "name": "python",
   "nbconvert_exporter": "python",
   "pygments_lexer": "ipython3",
   "version": "3.9.5"
  }
 },
 "nbformat": 4,
 "nbformat_minor": 5
}
