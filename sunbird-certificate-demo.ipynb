{
 "cells": [
  {
   "cell_type": "code",
   "execution_count": 31,
   "id": "c9e62b35-8012-4614-9d3d-e9212e7b698f",
   "metadata": {},
   "outputs": [],
   "source": [
    "import requests\n",
    "import random\n",
    "import json\n"
   ]
  },
  {
   "cell_type": "code",
   "execution_count": null,
   "id": "626b7b38-1773-4d3d-b1df-2e53f9372700",
   "metadata": {},
   "outputs": [],
   "source": []
  },
  {
   "cell_type": "code",
   "execution_count": 54,
   "id": "bc7348d4-396b-4319-b6f8-47c210dc0768",
   "metadata": {},
   "outputs": [],
   "source": [
    "registryBase = \"http://localhost:6083/\"\n",
    "baseUrl = \"http://keycloak:6083/api/v1/\"\n",
    "keycloakUrl = \"http://keycloak:8080\""
   ]
  },
  {
   "cell_type": "markdown",
   "id": "ff7ffb5b-6200-41c6-98c9-794436daba85",
   "metadata": {},
   "source": [
    "# create a issuer"
   ]
  },
  {
   "cell_type": "code",
   "execution_count": 55,
   "id": "8829ed91-6897-4050-8ac7-9e904d83818a",
   "metadata": {},
   "outputs": [
    {
     "name": "stdout",
     "output_type": "stream",
     "text": [
      "{\"id\":\"open-saber.registry.invite\",\"ver\":\"1.0\",\"ets\":1647412572545,\"params\":{\"resmsgid\":\"\",\"msgid\":\"edaa8429-1d3e-4193-8130-bcfb32b9a0a3\",\"err\":\"\",\"status\":\"SUCCESSFUL\",\"errmsg\":\"\"},\"responseCode\":\"OK\",\"result\":{\"Issuer\":{\"osid\":\"1-e6874dbe-a403-4f4a-a5a9-64b598999043\"}}}\n"
     ]
    }
   ],
   "source": [
    "issuerId = \"qw8@mailinator.com\"\n",
    "issuerRequestBody = {\n",
    "  \"contactDetails\": {\n",
    "    \"name\": \"\",\n",
    "    \"email\": \"issuerId\",\n",
    "    \"mobile\": \"issuerId\"\n",
    "  },\n",
    "  \"schemas\": [],\n",
    "  \"accountDetails\": {\n",
    "      \"userId\": issuerId\n",
    "  },\n",
    "  \"websiteUrl\": \"https://picsum.photos/200\",\n",
    "  \"logoUrl\": \"https://picsum.photos/200\",\n",
    "  \"name\": \"Issuer\",\n",
    "  \"sectorType\": \"Education\"\n",
    "}\n",
    "headers = {\n",
    "  'Content-Type': 'application/json'\n",
    "}\n",
    "\n",
    "response = requests.request(\"POST\", baseUrl + \"Issuer/invite\", headers=headers, json=issuerRequestBody)\n",
    "\n",
    "print(response.text)\n",
    "issuerOsid = response.json()[\"result\"][\"Issuer\"][\"osid\"]"
   ]
  },
  {
   "cell_type": "markdown",
   "id": "28ce5762-04ab-4fb2-b4ee-180a57e2d769",
   "metadata": {},
   "source": [
    "# get issuer token\n"
   ]
  },
  {
   "cell_type": "code",
   "execution_count": 56,
   "id": "959b097e-bc94-449c-87e9-fbb12cd3694f",
   "metadata": {},
   "outputs": [
    {
     "name": "stdout",
     "output_type": "stream",
     "text": [
      "eyJhbGciOiJSUzI1NiIsInR5cCIgOiAiSldUIiwia2lkIiA6ICJra2hibkJCMXROcnRYX0hZd0kxNGdfZmlhdXQwTUIyVTYzV2lEcnhZcHpjIn0.eyJleHAiOjE2NDc0MTMxODUsImlhdCI6MTY0NzQxMjU4NSwianRpIjoiZjBmNzhlMDctMjRjOS00YTFmLTg3YTEtNzMzN2RkMTk4ZmE0IiwiaXNzIjoiaHR0cDovL2tleWNsb2FrOjgwODAvYXV0aC9yZWFsbXMvc3VuYmlyZC1yYyIsImF1ZCI6ImFjY291bnQiLCJzdWIiOiI4YjA1ODI5ZS0xNDNkLTQ0M2YtYTRjMy02MjJmZWNiNzEyMWUiLCJ0eXAiOiJCZWFyZXIiLCJhenAiOiJyZWdpc3RyeS1mcm9udGVuZCIsInNlc3Npb25fc3RhdGUiOiJkZWI5OTY5NS1lMTlkLTQyZTMtYTEyZC0wZTg4MDljMzAxMTEiLCJhY3IiOiIxIiwiYWxsb3dlZC1vcmlnaW5zIjpbImh0dHBzOi8vbG9jYWxob3N0OjQyMDIiLCJodHRwOi8vbG9jYWxob3N0OjQyMDIiLCJodHRwczovL2xvY2FsaG9zdDo0MjAwIiwiaHR0cHM6Ly9uZGVhci54aXYuaW4iLCJodHRwOi8vbG9jYWxob3N0OjQyMDAiLCJodHRwOi8vbmRlYXIueGl2LmluIiwiaHR0cHM6Ly9zdW5iaXJkLWNlcnRpZmljYXRlLWRlbW8ueGl2LmluIiwiaHR0cDovLzIwLjE5OC42NC4xMjgiXSwicmVhbG1fYWNjZXNzIjp7InJvbGVzIjpbIm9mZmxpbmVfYWNjZXNzIiwiYWRtaW4iLCJ1bWFfYXV0aG9yaXphdGlvbiIsImRlZmF1bHQtcm9sZXMtbmRlYXIiXX0sInJlc291cmNlX2FjY2VzcyI6eyJhY2NvdW50Ijp7InJvbGVzIjpbIm1hbmFnZS1hY2NvdW50IiwibWFuYWdlLWFjY291bnQtbGlua3MiLCJ2aWV3LXByb2ZpbGUiXX19LCJzY29wZSI6InByb2ZpbGUgZW1haWwiLCJlbWFpbF92ZXJpZmllZCI6ZmFsc2UsInByZWZlcnJlZF91c2VybmFtZSI6InF3OEBtYWlsaW5hdG9yLmNvbSIsImVudGl0eSI6WyJJc3N1ZXIiXSwiZW1haWwiOiJxdzhAbWFpbGluYXRvci5jb20ifQ.w-cuPgtZg4o6C2TdkvidQm14bEUoteJjV-Xm4Bv57T6-J-k7ipbgBLgmzQdjMEwLkO5wVwo75udBUGXXf1noHbnYVlofn12ytSnHxL8YHna0xhse6ZW73SY57lQqh9qGbI7RdHhOM6YDJ82F_33GP3fVaCdCxgAIxmj1OtkxeKyQKIAtAu0L38FZRC1iCKH1vQV0OyKur5wESV2_swgZ0vaKe6ruOzG8hdEGKZzUFe3SVVtZ21PrGslfdKos9Uh2WK4dALGZy-gPtK5ED1K_CBkZ06MpbMJwPXJYMkDSxya8WZcJTLgz0zhy3LMVI08rRGdzNgLlrfzHCxFW92MHhA\n"
     ]
    }
   ],
   "source": [
    "def getToken(userId):\n",
    "    headers = {\n",
    "        'content-type': 'application/x-www-form-urlencoded',\n",
    "    }\n",
    "\n",
    "    data = {\n",
    "      'client_id': 'registry-frontend',\n",
    "      'username': userId,\n",
    "      'password': 'abcd@123',\n",
    "      'grant_type': 'password'\n",
    "    }\n",
    "\n",
    "    response = requests.post('%s/auth/realms/sunbird-rc/protocol/openid-connect/token'%(keycloakUrl), headers=headers, data=data)\n",
    "#     print(response.json())\n",
    "#     print(response.status_code)\n",
    "    token = response.json()[\"access_token\"]\n",
    "    return token\n",
    "\n",
    "token = getToken(issuerId)\n",
    "print(token)"
   ]
  },
  {
   "cell_type": "markdown",
   "id": "52c10e0b-2c99-44dd-932e-b1ccc3dde242",
   "metadata": {},
   "source": [
    "# create a schema"
   ]
  },
  {
   "cell_type": "code",
   "execution_count": 68,
   "id": "e35ee24c-0e23-4137-81d1-eb21eb2b1a97",
   "metadata": {},
   "outputs": [
    {
     "name": "stdout",
     "output_type": "stream",
     "text": [
      "500\n",
      "{\"id\":\"open-saber.registry.create\",\"ver\":\"1.0\",\"ets\":1647412630692,\"params\":{\"resmsgid\":\"\",\"msgid\":\"7b2277f0-7f3a-4cdc-a09b-bbe6904f040f\",\"err\":\"\",\"status\":\"UNSUCCESSFUL\",\"errmsg\":\"java.lang.RuntimeException: org.postgresql.util.PSQLException: ERROR: duplicate key value violates unique constraint \\\"public_V_Schema_name_sqlgIdx\\\"\\n  Detail: Key (name)=(schema21) already exists.\"},\"responseCode\":\"OK\",\"result\":{}}\n"
     ]
    },
    {
     "ename": "AssertionError",
     "evalue": "",
     "output_type": "error",
     "traceback": [
      "\u001b[0;31m---------------------------------------------------------------------------\u001b[0m",
      "\u001b[0;31mAssertionError\u001b[0m                            Traceback (most recent call last)",
      "\u001b[0;32m/var/folders/1c/_2dh0xbx1k9fzwx2pwfhgxrr0000gn/T/ipykernel_10796/38101019.py\u001b[0m in \u001b[0;36m<module>\u001b[0;34m\u001b[0m\n\u001b[1;32m     12\u001b[0m \u001b[0mprint\u001b[0m\u001b[0;34m(\u001b[0m\u001b[0mresponse\u001b[0m\u001b[0;34m.\u001b[0m\u001b[0mstatus_code\u001b[0m\u001b[0;34m)\u001b[0m\u001b[0;34m\u001b[0m\u001b[0;34m\u001b[0m\u001b[0m\n\u001b[1;32m     13\u001b[0m \u001b[0mprint\u001b[0m\u001b[0;34m(\u001b[0m\u001b[0mresponse\u001b[0m\u001b[0;34m.\u001b[0m\u001b[0mtext\u001b[0m\u001b[0;34m)\u001b[0m\u001b[0;34m\u001b[0m\u001b[0;34m\u001b[0m\u001b[0m\n\u001b[0;32m---> 14\u001b[0;31m \u001b[0;32massert\u001b[0m \u001b[0mresponse\u001b[0m\u001b[0;34m.\u001b[0m\u001b[0mstatus_code\u001b[0m \u001b[0;34m==\u001b[0m \u001b[0;36m200\u001b[0m\u001b[0;34m\u001b[0m\u001b[0;34m\u001b[0m\u001b[0m\n\u001b[0m\u001b[1;32m     15\u001b[0m \u001b[0mschemaOsid\u001b[0m \u001b[0;34m=\u001b[0m \u001b[0mresponse\u001b[0m\u001b[0;34m.\u001b[0m\u001b[0mjson\u001b[0m\u001b[0;34m(\u001b[0m\u001b[0;34m)\u001b[0m\u001b[0;34m[\u001b[0m\u001b[0;34m\"result\"\u001b[0m\u001b[0;34m]\u001b[0m\u001b[0;34m[\u001b[0m\u001b[0;34m\"Schema\"\u001b[0m\u001b[0;34m]\u001b[0m\u001b[0;34m[\u001b[0m\u001b[0;34m\"osid\"\u001b[0m\u001b[0;34m]\u001b[0m\u001b[0;34m\u001b[0m\u001b[0;34m\u001b[0m\u001b[0m\n\u001b[1;32m     16\u001b[0m \u001b[0mprint\u001b[0m\u001b[0;34m(\u001b[0m\u001b[0mschemaOsid\u001b[0m\u001b[0;34m)\u001b[0m\u001b[0;34m\u001b[0m\u001b[0;34m\u001b[0m\u001b[0m\n",
      "\u001b[0;31mAssertionError\u001b[0m: "
     ]
    }
   ],
   "source": [
    "\n",
    "schemaRequestBody = {\n",
    "  \"name\": \"schema21\",\n",
    "    \"schema\": \"{\\n  \\\"$schema\\\": \\\"http://json-schema.org/draft-07/schema\\\",\\n  \\\"type\\\": \\\"object\\\",\\n  \\\"properties\\\": {\\n    \\\"TrainingCertificate\\\": {\\n      \\\"$ref\\\": \\\"#/definitions/TrainingCertificate\\\"\\n    }\\n  },\\n  \\\"required\\\": [\\n    \\\"TrainingCertificate\\\"\\n  ],\\n  \\\"title\\\": \\\"TrainingCertificate\\\",\\n  \\\"definitions\\\": {\\n    \\\"TrainingCertificate\\\": {\\n      \\\"$id\\\": \\\"#/properties/TrainingCertificate\\\",\\n      \\\"type\\\": \\\"object\\\",\\n      \\\"title\\\": \\\"The TrainingCertificate Schema\\\",\\n      \\\"required\\\": [\\n        \\\"name\\\",\\n        \\\"contact\\\"\\n      ],\\n      \\\"properties\\\": {\\n        \\\"name\\\": {\\n          \\\"type\\\": \\\"string\\\"\\n        },\\n        \\\"trainingTitle\\\": {\\n          \\\"type\\\": \\\"string\\\"\\n        },\\n        \\\"contact\\\": {\\n          \\\"type\\\": \\\"string\\\"\\n        },\\n        \\\"date\\\": {\\n          \\\"type\\\": \\\"string\\\",\\n          \\\"format\\\": \\\"date\\\"\\n        },\\n        \\\"note\\\": {\\n          \\\"type\\\": \\\"string\\\"\\n        }\\n      }\\n    }\\n  },\\n  \\\"_osConfig\\\": {\\n    \\\"uniqueIndexFields\\\": [\\n      \\\"contact\\\"\\n    ],\\n    \\\"ownershipAttributes\\\": [],\\n    \\\"roles\\\": [],\\n    \\\"inviteRoles\\\": [\\n      \\\"anonymous\\\"\\n    ],\\n    \\\"enableLogin\\\": false,\\n    \\\"credentialTemplate\\\": {\\n      \\\"@context\\\": [\\n        \\\"https://www.w3.org/2018/credentials/v1\\\",\\n        \\\"https://gist.githubusercontent.com/dileepbapat/eb932596a70f75016411cc871113a789/raw/498e5af1d94784f114b32c1ab827f951a8a24def/skill\\\"\\n      ],\\n      \\\"type\\\": [\\n        \\\"VerifiableCredential\\\"\\n      ],\\n      \\\"issuanceDate\\\": \\\"2021-08-27T10:57:57.237Z\\\",\\n      \\\"credentialSubject\\\": {\\n        \\\"type\\\": \\\"Person\\\",\\n        \\\"name\\\": \\\"{{name}}\\\",\\n        \\\"trainedOn\\\": \\\"{{trainingTitle}}\\\"\\n      },\\n      \\\"issuer\\\": \\\"did:web:sunbirdrc.dev/vc/skill\\\"\\n    },\\n    \\\"certificateTemplates\\\": {\\n      \\\"html\\\": \\\"https://raw.githubusercontent.com/dileepbapat/ref-sunbirdrc-certificate/main/schemas/templates/TrainingCertificate.html\\\",\\n      \\\"svg\\\": \\\"https://raw.githubusercontent.com/dileepbapat/ref-sunbirdrc-certificate/main/schemas/templates/TrainingCertificate.svg\\\"\\n    }\\n  }\\n}\"\n",
    "}\n",
    "headers = {\n",
    "  'Content-Type': 'application/json',\n",
    "    'Authorization': 'Bearer ' + token\n",
    "}\n",
    "\n",
    "response = requests.request(\"POST\", baseUrl + \"Schema\", headers=headers, json=schemaRequestBody)\n",
    "\n",
    "print(response.status_code)\n",
    "print(response.text)\n",
    "assert response.status_code == 200 \n",
    "schemaOsid = response.json()[\"result\"][\"Schema\"][\"osid\"]\n",
    "print(schemaOsid)"
   ]
  },
  {
   "cell_type": "code",
   "execution_count": 58,
   "id": "2afc69be-7116-4616-960b-ce36d83757b3",
   "metadata": {},
   "outputs": [
    {
     "data": {
      "text/plain": [
       "<Response [200]>"
      ]
     },
     "execution_count": 58,
     "metadata": {},
     "output_type": "execute_result"
    }
   ],
   "source": [
    "response"
   ]
  },
  {
   "cell_type": "markdown",
   "id": "2675f607-b28d-460a-8764-dc2b77fb5c1f",
   "metadata": {},
   "source": [
    "# get all schemas"
   ]
  },
  {
   "cell_type": "code",
   "execution_count": 67,
   "id": "3f9386dc-0f0b-4624-ae05-0c4d0ef8c418",
   "metadata": {},
   "outputs": [
    {
     "name": "stdout",
     "output_type": "stream",
     "text": [
      "[]\n"
     ]
    }
   ],
   "source": [
    "schemaRequestBody = {\n",
    "  \"entity\": \"Schema\",\n",
    "    \"filters\": {}\n",
    "}\n",
    "headers = {\n",
    "  'Content-Type': 'application/json',\n",
    "    'Authorization': 'Bearer ' + token\n",
    "}\n",
    "\n",
    "response = requests.request(\"POST\", baseUrl + \"Schema/search\", headers=headers, json=schemaRequestBody)\n",
    "\n",
    "print(response.json())\n",
    "for j in response.json():\n",
    "    print(j['name'])"
   ]
  },
  {
   "cell_type": "code",
   "execution_count": 66,
   "id": "ea111905-0af2-411a-b154-dbccf5f2c89e",
   "metadata": {},
   "outputs": [
    {
     "name": "stdout",
     "output_type": "stream",
     "text": [
      "<Response [404]>\n",
      "{'id': 'open-saber.registry.search', 'ver': '1.0', 'ets': 1647412617826, 'params': {'resmsgid': '', 'msgid': '7bfad598-8d92-4aca-b05a-6e9a8f50026f', 'err': '', 'status': 'UNSUCCESSFUL', 'errmsg': 'Entity not found'}, 'responseCode': 'OK'}\n",
      "5\n"
     ]
    }
   ],
   "source": [
    "schemaRequestBody = {\n",
    "  \"entity\": \"Schema\",\n",
    "    \"filters\": {}\n",
    "}\n",
    "headers = {\n",
    "  'Content-Type': 'application/json',\n",
    "    'Authorization': 'Bearer ' + token\n",
    "}\n",
    "\n",
    "response = requests.request(\"GET\", baseUrl + \"Schema\", headers=headers)\n",
    "print(response)\n",
    "print(response.json())\n",
    "print(len(response.json()))"
   ]
  },
  {
   "cell_type": "markdown",
   "id": "20d0ba59-8def-4962-b08e-416b4a697dfd",
   "metadata": {},
   "source": [
    "# upload template"
   ]
  },
  {
   "cell_type": "code",
   "execution_count": 61,
   "id": "b5310fff-cbab-4f31-8099-eee5304d65fe",
   "metadata": {},
   "outputs": [
    {
     "name": "stdout",
     "output_type": "stream",
     "text": [
      "<Response [200]>\n",
      "Issuer/1-e6874dbe-a403-4f4a-a5a9-64b598999043/templates/documents/1d8869cf-db2d-4d61-9736-fa5c87d2de52-certificate.html\n"
     ]
    }
   ],
   "source": [
    "\n",
    "url = \"http://localhost:8081/api/v1/Issuer/1-9a7f72a0-b48d-48c8-b538-d46300b3f859/attestation/documents\"\n",
    "\n",
    "payload={}\n",
    "files=[\n",
    "  ('files',('certificate.html',open('certificate.html','rb'),'application/pdf'))\n",
    "]\n",
    "headers = {\n",
    "  'Authorization': 'Bearer ' + token\n",
    "}\n",
    "\n",
    "templateResponse = requests.request(\"POST\", baseUrl + \"Issuer/\" + issuerOsid + \"/templates/documents\", headers=headers, data=payload, files=files)\n",
    "print(templateResponse)\n",
    "templateUrl = templateResponse.json()[\"documentLocations\"][0]\n",
    "print(templateUrl)\n"
   ]
  },
  {
   "cell_type": "markdown",
   "id": "0f66689f-0dc9-4b29-857a-d3fc10098518",
   "metadata": {},
   "source": [
    "# update schemas"
   ]
  },
  {
   "cell_type": "code",
   "execution_count": 62,
   "id": "f0c998a0-2202-405d-8c22-ee6fd31cb054",
   "metadata": {},
   "outputs": [
    {
     "name": "stdout",
     "output_type": "stream",
     "text": [
      "<Response [200]>\n",
      "{\"id\":\"open-saber.registry.update\",\"ver\":\"1.0\",\"ets\":1647412600031,\"params\":{\"resmsgid\":\"\",\"msgid\":\"25cb9d74-9e51-4136-a7f5-037f1803d58f\",\"err\":\"\",\"status\":\"SUCCESSFUL\",\"errmsg\":\"\"},\"responseCode\":\"OK\"}\n",
      "{'$id': '#/properties/TrainingCertificate', 'type': 'object', 'title': 'The TrainingCertificate Schema', 'required': ['name', 'contact'], 'properties': {'name': {'type': 'string'}, 'trainingTitle': {'type': 'string'}, 'contact': {'type': 'string'}, 'createdAt': {'type': 'string', 'format': 'date'}, 'note': {'type': 'string'}}}\n",
      "True\n",
      "did:path:Issuer/1-e6874dbe-a403-4f4a-a5a9-64b598999043/templates/documents/1d8869cf-db2d-4d61-9736-fa5c87d2de52-certificate.html\n"
     ]
    }
   ],
   "source": [
    "updateRequestBody = {\n",
    "    \"schema\": \"{\\n  \\\"$schema\\\": \\\"http://json-schema.org/draft-07/schema\\\",\\n  \\\"type\\\": \\\"object\\\",\\n  \\\"properties\\\": {\\n    \\\"TrainingCertificate\\\": {\\n      \\\"$ref\\\": \\\"#/definitions/TrainingCertificate\\\"\\n    }\\n  },\\n  \\\"required\\\": [\\n    \\\"TrainingCertificate\\\"\\n  ],\\n  \\\"title\\\": \\\"TrainingCertificate\\\",\\n  \\\"definitions\\\": {\\n    \\\"TrainingCertificate\\\": {\\n      \\\"$id\\\": \\\"#/properties/TrainingCertificate\\\",\\n      \\\"type\\\": \\\"object\\\",\\n      \\\"title\\\": \\\"The TrainingCertificate Schema\\\",\\n      \\\"required\\\": [\\n        \\\"name\\\",\\n        \\\"contact\\\"\\n      ],\\n      \\\"properties\\\": {\\n        \\\"name\\\": {\\n          \\\"type\\\": \\\"string\\\"\\n        },\\n        \\\"trainingTitle\\\": {\\n          \\\"type\\\": \\\"string\\\"\\n        },\\n        \\\"contact\\\": {\\n          \\\"type\\\": \\\"string\\\"\\n        },\\n        \\\"createdAt\\\": {\\n          \\\"type\\\": \\\"string\\\",\\n          \\\"format\\\": \\\"date\\\"\\n        },\\n        \\\"note\\\": {\\n          \\\"type\\\": \\\"string\\\"\\n        }\\n      }\\n    }\\n  },\\n  \\\"_osConfig\\\": {\\n    \\\"uniqueIndexFields\\\": [\\n      \\\"contact\\\"\\n    ],\\n    \\\"ownershipAttributes\\\": [],\\n    \\\"roles\\\": [],\\n    \\\"inviteRoles\\\": [\\n      \\\"anonymous\\\"\\n    ],\\n    \\\"enableLogin\\\": false,\\n    \\\"credentialTemplate\\\": {\\n      \\\"@context\\\": [\\n        \\\"https://www.w3.org/2018/credentials/v1\\\",\\n        \\\"https://gist.githubusercontent.com/dileepbapat/eb932596a70f75016411cc871113a789/raw/498e5af1d94784f114b32c1ab827f951a8a24def/skill\\\"\\n      ],\\n      \\\"type\\\": [\\n        \\\"VerifiableCredential\\\"\\n      ],\\n      \\\"issuanceDate\\\": \\\"2021-08-27T10:57:57.237Z\\\",\\n      \\\"credentialSubject\\\": {\\n        \\\"type\\\": \\\"Person\\\",\\n        \\\"name\\\": \\\"{{name}}\\\",\\n        \\\"trainedOn\\\": \\\"{{trainingTitle}}\\\"\\n      },\\n      \\\"issuer\\\": \\\"did:web:sunbirdrc.dev/vc/skill\\\"\\n    },\"+\n",
    "    \"\\n    \\\"certificateTemplates\\\": {\\n      \\\"html\\\": \\\"did:path:\"+ templateUrl+\"\\\",\\n  \"\n",
    "    +\"    \\\"svg\\\": \\\"did:url:https://raw.githubusercontent.com/dileepbapat/ref-sunbirdrc-certificate/main/schemas/templates/TrainingCertificate.svg\\\"\\n    }\\n  }\\n}\"\n",
    "}\n",
    "headers = {\n",
    "  'Content-Type': 'application/json',\n",
    "    'Authorization': 'Bearer ' + token\n",
    "}\n",
    "\n",
    "response = requests.request(\"PUT\", baseUrl + \"Schema/\"+schemaOsid, headers=headers, json=updateRequestBody)\n",
    "print(response)\n",
    "print(response.text)\n",
    "headers = {\n",
    "  'Content-Type': 'application/json'\n",
    "}\n",
    "\n",
    "response = requests.request(\"GET\", registryBase + \"registry/TrainingCertificate\", headers=headers)\n",
    "print(json.loads(response.json()[\"result\"][\"content\"])[\"definitions\"][\"TrainingCertificate\"])\n",
    "print(\"createdAt\" in json.loads(response.json()[\"result\"][\"content\"])[\"definitions\"][\"TrainingCertificate\"][\"properties\"])\n",
    "htmlTemplatePath = json.loads(response.json()[\"result\"][\"content\"])[\"_osConfig\"][\"certificateTemplates\"][\"html\"]\n",
    "print(htmlTemplatePath)\n",
    "assert htmlTemplatePath == \"did:path:\" + templateUrl"
   ]
  },
  {
   "cell_type": "markdown",
   "id": "5b09e13a-ff6e-4bb1-b42a-de7bb7b19eaa",
   "metadata": {},
   "source": [
    "# Delete schema"
   ]
  },
  {
   "cell_type": "code",
   "execution_count": 63,
   "id": "5533b533-d0f6-4d2d-8cda-1bc226fb6eda",
   "metadata": {},
   "outputs": [
    {
     "name": "stdout",
     "output_type": "stream",
     "text": [
      "<Response [200]>\n",
      "{'id': 'open-saber.registry.delete', 'ver': '1.0', 'ets': 1647412601947, 'params': {'resmsgid': '', 'msgid': 'ee432ab1-db97-43bf-87b0-f8f56b1a4dfa', 'err': '', 'status': 'SUCCESSFUL', 'errmsg': ''}, 'responseCode': 'OK'}\n",
      "5\n",
      "{'id': 'open-saber.registry.read', 'ver': '1.0', 'ets': 1647412602119, 'params': {'resmsgid': '', 'msgid': '36efe9d7-ce6c-48ef-9ced-3c604b61eac4', 'err': '', 'status': 'SUCCESSFUL', 'errmsg': ''}, 'responseCode': 'OK'}\n",
      "False\n"
     ]
    }
   ],
   "source": [
    "schemaRequestBody = {\n",
    "  \"entity\": \"Schema\",\n",
    "    \"filters\": {}\n",
    "}\n",
    "headers = {\n",
    "  'Content-Type': 'application/json',\n",
    "    'Authorization': 'Bearer ' + token\n",
    "}\n",
    "\n",
    "response = requests.request(\"DELETE\", baseUrl + \"Schema/\" + schemaOsid, headers=headers)\n",
    "print(response)\n",
    "print(response.json())\n",
    "print(len(response.json()))\n",
    "headers = {\n",
    "  'Content-Type': 'application/json'\n",
    "}\n",
    "\n",
    "response = requests.request(\"GET\", registryBase + \"registry/TrainingCertificate\", headers=headers)\n",
    "print(response.json())\n",
    "print(\"result\" in response.json())\n",
    "assert (\"result\" in response.json()) == False"
   ]
  },
  {
   "cell_type": "markdown",
   "id": "c2e79d55-234f-4f5a-891a-012cf343758e",
   "metadata": {},
   "source": [
    "# get all definitions"
   ]
  },
  {
   "cell_type": "code",
   "execution_count": 64,
   "id": "a0575067-b978-4e10-8f02-0ceb3674c3a0",
   "metadata": {},
   "outputs": [
    {
     "name": "stdout",
     "output_type": "stream",
     "text": [
      "{'id': 'open-saber.registry.read', 'ver': '1.0', 'ets': 1647412603786, 'params': {'resmsgid': '', 'msgid': '85e44f90-8e56-43a6-a6ed-b1c1c01186d2', 'err': '', 'status': 'SUCCESSFUL', 'errmsg': ''}, 'responseCode': 'OK', 'result': ['Issuer', 'Schema', 'DocumentType']}\n"
     ]
    }
   ],
   "source": [
    "\n",
    "headers = {\n",
    "  'Content-Type': 'application/json'\n",
    "}\n",
    "\n",
    "response = requests.request(\"GET\", registryBase + \"registers\", headers=headers)\n",
    "\n",
    "print(response.json())"
   ]
  },
  {
   "cell_type": "markdown",
   "id": "c05eff15-55b9-4220-bca9-8af1af522986",
   "metadata": {},
   "source": [
    "# get entity definition"
   ]
  },
  {
   "cell_type": "code",
   "execution_count": 65,
   "id": "5e507ee1-26c5-4276-8d41-c6ca78899048",
   "metadata": {},
   "outputs": [
    {
     "name": "stdout",
     "output_type": "stream",
     "text": [
      "{'id': 'open-saber.registry.read', 'ver': '1.0', 'ets': 1647412605200, 'params': {'resmsgid': '', 'msgid': 'dc5d346c-c370-4219-baf9-3f092a9f1b5e', 'err': '', 'status': 'SUCCESSFUL', 'errmsg': ''}, 'responseCode': 'OK'}\n"
     ]
    }
   ],
   "source": [
    "headers = {\n",
    "  'Content-Type': 'application/json'\n",
    "}\n",
    "\n",
    "response = requests.request(\"GET\", registryBase + \"registry/TrainingCertificate\", headers=headers)\n",
    "print(response.json())\n",
    "if \"result\" in response.json():\n",
    "    print(response.json()[\"result\"])\n",
    "    print(\"result\" in response.json())"
   ]
  },
  {
   "cell_type": "markdown",
   "id": "c54787df-fab0-4018-a279-e0813ce32ed9",
   "metadata": {},
   "source": [
    "# Update schema"
   ]
  },
  {
   "cell_type": "code",
   "execution_count": null,
   "id": "30a03884-ec82-4929-906a-13cdf6328a5d",
   "metadata": {},
   "outputs": [],
   "source": []
  },
  {
   "cell_type": "code",
   "execution_count": null,
   "id": "71b378ad",
   "metadata": {},
   "outputs": [],
   "source": []
  }
 ],
 "metadata": {
  "kernelspec": {
   "display_name": "Python 3 (ipykernel)",
   "language": "python",
   "name": "python3"
  },
  "language_info": {
   "codemirror_mode": {
    "name": "ipython",
    "version": 3
   },
   "file_extension": ".py",
   "mimetype": "text/x-python",
   "name": "python",
   "nbconvert_exporter": "python",
   "pygments_lexer": "ipython3",
   "version": "3.9.5"
  }
 },
 "nbformat": 4,
 "nbformat_minor": 5
}
