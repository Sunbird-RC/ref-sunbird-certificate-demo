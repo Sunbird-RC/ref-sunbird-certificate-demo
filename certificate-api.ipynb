{
 "cells": [
  {
   "cell_type": "code",
   "execution_count": 1,
   "id": "f0d66103",
   "metadata": {},
   "outputs": [],
   "source": [
    "import requests\n",
    "import random\n",
    "import json\n",
    "\n",
    "base_url = \"http://localhost:6083\"\n",
    "\n",
    "resp = requests.get(base_url)\n",
    "assert resp.status_code == 404\n",
    "assert resp.json()[\"status\"] == 404\n",
    "assert resp.json()[\"error\"] == \"Not Found\"\n"
   ]
  },
  {
   "cell_type": "code",
   "execution_count": 2,
   "id": "fc57f642",
   "metadata": {},
   "outputs": [
    {
     "name": "stdout",
     "output_type": "stream",
     "text": [
      "['/api/docs/TrainingCertificate.json', '/api/docs/Issuer.json', '/api/docs/Schema.json', '/api/docs/DocumentType.json']\n"
     ]
    }
   ],
   "source": [
    "\n",
    "resp = requests.get(\"%s/api/docs/swagger.json\"%base_url)\n",
    "assert resp.status_code == 200\n",
    "assert resp.json()[\"swagger\"] == \"2.0\"\n",
    "assert resp.json()[\"paths\"] != None\n",
    "\n",
    "swaggerJson = resp.json()\n",
    "swaggerJson[\"paths\"].keys()\n",
    "\n",
    "jsonUrls = [f for f in swaggerJson[\"paths\"].keys() if \".json\" in f]\n",
    "print(jsonUrls)\n",
    "jsonUrl = jsonUrls[0]\n",
    "\n",
    "resp = requests.get(\"%s%s\"%(base_url, jsonUrl))\n",
    "assert resp.status_code == 200\n"
   ]
  },
  {
   "cell_type": "code",
   "execution_count": 3,
   "id": "0e3b1059",
   "metadata": {},
   "outputs": [
    {
     "data": {
      "text/plain": [
       "{'TrainingCertificate': {'$id': '#/properties/TrainingCertificate',\n",
       "  'type': 'object',\n",
       "  'title': 'The TrainingCertificate Schema',\n",
       "  'required': ['name', 'contact'],\n",
       "  'properties': {'name': {'type': 'string'},\n",
       "   'trainingTitle': {'type': 'string'},\n",
       "   'contact': {'type': 'string'},\n",
       "   'createdAt': {'type': 'string', 'format': 'date'},\n",
       "   'note': {'type': 'string'}}}}"
      ]
     },
     "execution_count": 3,
     "metadata": {},
     "output_type": "execute_result"
    }
   ],
   "source": [
    "resp.json()"
   ]
  },
  {
   "cell_type": "code",
   "execution_count": 4,
   "id": "3343a6fe",
   "metadata": {},
   "outputs": [
    {
     "name": "stdout",
     "output_type": "stream",
     "text": [
      "Available entities  ['TrainingCertificate']\n"
     ]
    }
   ],
   "source": [
    "entities = list(resp.json().keys())\n",
    "print(\"Available entities \", entities)"
   ]
  },
  {
   "cell_type": "code",
   "execution_count": 5,
   "id": "41559bae",
   "metadata": {},
   "outputs": [
    {
     "name": "stdout",
     "output_type": "stream",
     "text": [
      "Using entity TrainingCertificate\n"
     ]
    }
   ],
   "source": [
    "entity_name=entities[0]\n",
    "print(\"Using entity %s\"%entity_name)\n"
   ]
  },
  {
   "cell_type": "code",
   "execution_count": 6,
   "id": "161ca6b9",
   "metadata": {},
   "outputs": [],
   "source": [
    "userId =str(random.randint(1e10,1e11))\n",
    "resp = requests.post(\"%s%s\"%(base_url, '/api/v1/%s'%entity_name), json={\n",
    "    \"name\":\"Sunbird Learner\", \n",
    "    \"contact\": userId, \n",
    "    \"trainingTitle\":\"Sunbird RC Certificate Module\"\n",
    "    \n",
    "})\n",
    "assert resp.status_code == 200 or print (resp.json())\n",
    "idx = resp.json()[\"result\"][entity_name][\"osid\"]\n"
   ]
  },
  {
   "cell_type": "code",
   "execution_count": 7,
   "id": "e73084c3",
   "metadata": {},
   "outputs": [
    {
     "data": {
      "text/plain": [
       "{'id': 'open-saber.registry.create',\n",
       " 'ver': '1.0',\n",
       " 'ets': 1652182355334,\n",
       " 'params': {'resmsgid': '',\n",
       "  'msgid': '24bde6de-cba6-4f52-979d-551a2c182ee2',\n",
       "  'err': '',\n",
       "  'status': 'SUCCESSFUL',\n",
       "  'errmsg': ''},\n",
       " 'responseCode': 'OK',\n",
       " 'result': {'TrainingCertificate': {'osid': '1-f03e67e2-20f7-4a10-9b46-af1b81aa89cc'}}}"
      ]
     },
     "execution_count": 7,
     "metadata": {},
     "output_type": "execute_result"
    }
   ],
   "source": [
    "resp.json()\n"
   ]
  },
  {
   "cell_type": "code",
   "execution_count": 8,
   "id": "345cfbf2",
   "metadata": {},
   "outputs": [
    {
     "name": "stdout",
     "output_type": "stream",
     "text": [
      "{'id': 'open-saber.registry.create', 'ver': '1.0', 'ets': 1652182355334, 'params': {'resmsgid': '', 'msgid': '24bde6de-cba6-4f52-979d-551a2c182ee2', 'err': '', 'status': 'SUCCESSFUL', 'errmsg': ''}, 'responseCode': 'OK', 'result': {'TrainingCertificate': {'osid': '1-f03e67e2-20f7-4a10-9b46-af1b81aa89cc'}}}\n"
     ]
    },
    {
     "data": {
      "text/plain": [
       "(200, '38107862399')"
      ]
     },
     "execution_count": 8,
     "metadata": {},
     "output_type": "execute_result"
    }
   ],
   "source": [
    "print(resp.json())\n",
    "resp.status_code, userId\n"
   ]
  },
  {
   "cell_type": "code",
   "execution_count": 9,
   "id": "e880f599",
   "metadata": {},
   "outputs": [
    {
     "name": "stdout",
     "output_type": "stream",
     "text": [
      "{\"@context\": [\"https://www.w3.org/2018/credentials/v1\", \"https://gist.githubusercontent.com/dileepbapat/eb932596a70f75016411cc871113a789/raw/498e5af1d94784f114b32c1ab827f951a8a24def/skill\"], \"type\": [\"VerifiableCredential\"], \"issuanceDate\": \"2021-08-27T10:57:57.237Z\", \"credentialSubject\": {\"type\": \"Person\", \"name\": \"Sunbird Learner\", \"trainedOn\": \"Sunbird RC Certificate Module\"}, \"issuer\": \"did:web:sunbirdrc.dev/vc/skill\", \"proof\": {\"type\": \"Ed25519Signature2018\", \"created\": \"2022-05-10T11:32:35Z\", \"verificationMethod\": \"did:india\", \"proofPurpose\": \"assertionMethod\", \"jws\": \"eyJhbGciOiJFZERTQSIsImI2NCI6ZmFsc2UsImNyaXQiOlsiYjY0Il19..jup-zt0rwf1UsE8rv93pz9adrFBlzhBqh0JnYI2DPsgxTE-VcQMMY6cLY97HY0yXFwAk8jSEp3B15GzeuJwUBA\"}}\n"
     ]
    }
   ],
   "source": [
    "resp = requests.get(\"%s/api/v1/%s/%s\"%(base_url, entity_name, idx), headers={\"Accept\":\"application/vc+ld+json\"})\n",
    "print(json.dumps(resp.json()))\n",
    "assert resp.json()[\"proof\"][\"type\"] == \"Ed25519Signature2018\"\n"
   ]
  },
  {
   "cell_type": "code",
   "execution_count": 10,
   "id": "932efa6f",
   "metadata": {},
   "outputs": [],
   "source": [
    "resp = requests.get(\"%s/api/v1/%s/%s\"%(base_url, entity_name, idx), headers={\"Accept\":\"application/pdf\", \"template\": \"https://raw.githubusercontent.com/dileepbapat/ref-sunbirdrc-certificate/main/schemas/templates/TrainingCertificate.html\"})\n"
   ]
  },
  {
   "cell_type": "code",
   "execution_count": 11,
   "id": "f6854518",
   "metadata": {},
   "outputs": [
    {
     "data": {
      "text/plain": [
       "[]"
      ]
     },
     "execution_count": 11,
     "metadata": {},
     "output_type": "execute_result"
    }
   ],
   "source": [
    "(resp.status_code, resp.content)\n",
    "\n",
    "assert resp.content[:5].decode().startswith(\"%PDF\")\n",
    "with open('sample.pdf', 'wb') as f:\n",
    "    f.write(resp.content)\n",
    "\n",
    "%system open 'sample.pdf'"
   ]
  },
  {
   "cell_type": "code",
   "execution_count": 12,
   "id": "2023bcb4-4f36-431f-af59-184d92b28404",
   "metadata": {},
   "outputs": [],
   "source": [
    "resp = requests.get(\"%s/api/v1/%s/%s\"%(base_url, entity_name, idx), headers={\"Accept\":\"application/pdf\", \"template-key\": \"html\"})\n",
    "(resp.status_code, resp.content)\n",
    "\n",
    "assert resp.content[:5].decode().startswith(\"%PDF\")\n",
    "with open('sample.pdf', 'wb') as f:\n",
    "    f.write(resp.content)\n",
    "    %system open 'sample.pdf'"
   ]
  },
  {
   "cell_type": "code",
   "execution_count": 13,
   "id": "a8a59055-c223-4f49-9b03-6982cfb655ed",
   "metadata": {},
   "outputs": [
    {
     "data": {
      "text/plain": [
       "[]"
      ]
     },
     "execution_count": 13,
     "metadata": {},
     "output_type": "execute_result"
    }
   ],
   "source": [
    "%system open 'sample.pdf'"
   ]
  },
  {
   "cell_type": "code",
   "execution_count": 20,
   "id": "66ade90a",
   "metadata": {},
   "outputs": [
    {
     "name": "stdout",
     "output_type": "stream",
     "text": [
      "200 b'<html lang=\"en\">\\n<head>\\n    <style>\\n        .line{text-align:center;font-family: \\'Imperial Script\\';font-size: 2em;}\\n    </style>\\n</head>\\n<body style=\"width: 900px\">\\n<div style=\"margin: 1em;border: 3px solid darkgoldenrod;border-radius: 5px;background-color: lightgoldenrodyellow;height: 600px\">\\n    <div style=\"padding:1em;text-align:center;font-family: Canterbury;font-size: 4em;\">Certificate of Training</div>\\n    <table width=\"100%\"><tr>\\n        <td valign=\"bottom\"><img style=\"float:left;padding-left: 2em;\" src=\"data:image/png;base64,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\" alt=\"qr_code\"/>\\n    </td><td>\\n    <div class=\"line\">\\n        <div>This is to certify that</div>\\n        <div><b>Sunbird Learner</b></div>\\n        <div>has successfully completed training requirements for</div>\\n        <div style=\"padding: 1em;font-family: \\'Open Sans\\', sans-serif\">Sunbird RC Certificate Module </div>\\n        <div>and is awarded this certificate on </div>\\n        <div>Tuesday, May 10th 2022</div>\\n\\n    </div>\\n    </td></tr></table>\\n</div>\\n</div>\\n<div>\\n\\n</div>\\n</body>\\n</html>'\n"
     ]
    },
    {
     "data": {
      "text/plain": [
       "[]"
      ]
     },
     "execution_count": 20,
     "metadata": {},
     "output_type": "execute_result"
    }
   ],
   "source": [
    "resp = requests.get(\"%s/api/v1/%s/%s\"%(base_url, entity_name, idx), headers={\"Accept\":\"text/html\",\"template-key\": \"html\"})\n",
    "print(resp.status_code, resp.content)\n",
    "\n",
    "assert resp.content[:5].decode().startswith(\"<html\")\n",
    "with open('sample.html', 'wb') as f:\n",
    "    f.write(resp.content)\n",
    "%system open 'sample.html'\n"
   ]
  },
  {
   "cell_type": "code",
   "execution_count": 23,
   "id": "7d546807",
   "metadata": {},
   "outputs": [
    {
     "ename": "AssertionError",
     "evalue": "",
     "output_type": "error",
     "traceback": [
      "\u001b[0;31m---------------------------------------------------------------------------\u001b[0m",
      "\u001b[0;31mAssertionError\u001b[0m                            Traceback (most recent call last)",
      "\u001b[0;32m/var/folders/1c/_2dh0xbx1k9fzwx2pwfhgxrr0000gn/T/ipykernel_13049/2977335242.py\u001b[0m in \u001b[0;36m<module>\u001b[0;34m\u001b[0m\n\u001b[1;32m      2\u001b[0m \u001b[0mresp\u001b[0m\u001b[0;34m.\u001b[0m\u001b[0mstatus_code\u001b[0m\u001b[0;34m,\u001b[0m \u001b[0mresp\u001b[0m\u001b[0;34m.\u001b[0m\u001b[0mcontent\u001b[0m\u001b[0;34m\u001b[0m\u001b[0;34m\u001b[0m\u001b[0m\n\u001b[1;32m      3\u001b[0m \u001b[0;34m\u001b[0m\u001b[0m\n\u001b[0;32m----> 4\u001b[0;31m \u001b[0;32massert\u001b[0m \u001b[0mresp\u001b[0m\u001b[0;34m.\u001b[0m\u001b[0mcontent\u001b[0m\u001b[0;34m.\u001b[0m\u001b[0mdecode\u001b[0m\u001b[0;34m(\u001b[0m\u001b[0;34m)\u001b[0m\u001b[0;34m.\u001b[0m\u001b[0mfind\u001b[0m\u001b[0;34m(\u001b[0m\u001b[0;34m\"<svg\"\u001b[0m\u001b[0;34m)\u001b[0m \u001b[0;34m!=\u001b[0m \u001b[0;34m-\u001b[0m\u001b[0;36m1\u001b[0m\u001b[0;34m\u001b[0m\u001b[0;34m\u001b[0m\u001b[0m\n\u001b[0m\u001b[1;32m      5\u001b[0m \u001b[0;32mwith\u001b[0m \u001b[0mopen\u001b[0m\u001b[0;34m(\u001b[0m\u001b[0;34m'sample.svg'\u001b[0m\u001b[0;34m,\u001b[0m \u001b[0;34m'wb'\u001b[0m\u001b[0;34m)\u001b[0m \u001b[0;32mas\u001b[0m \u001b[0mf\u001b[0m\u001b[0;34m:\u001b[0m\u001b[0;34m\u001b[0m\u001b[0;34m\u001b[0m\u001b[0m\n\u001b[1;32m      6\u001b[0m     \u001b[0mf\u001b[0m\u001b[0;34m.\u001b[0m\u001b[0mwrite\u001b[0m\u001b[0;34m(\u001b[0m\u001b[0mresp\u001b[0m\u001b[0;34m.\u001b[0m\u001b[0mcontent\u001b[0m\u001b[0;34m)\u001b[0m\u001b[0;34m\u001b[0m\u001b[0;34m\u001b[0m\u001b[0m\n",
      "\u001b[0;31mAssertionError\u001b[0m: "
     ]
    }
   ],
   "source": []
  },
  {
   "cell_type": "code",
   "execution_count": null,
   "id": "ba6dd127",
   "metadata": {},
   "outputs": [],
   "source": []
  }
 ],
 "metadata": {
  "kernelspec": {
   "display_name": "Python 3 (ipykernel)",
   "language": "python",
   "name": "python3"
  },
  "language_info": {
   "codemirror_mode": {
    "name": "ipython",
    "version": 3
   },
   "file_extension": ".py",
   "mimetype": "text/x-python",
   "name": "python",
   "nbconvert_exporter": "python",
   "pygments_lexer": "ipython3",
   "version": "3.9.12"
  }
 },
 "nbformat": 4,
 "nbformat_minor": 5
}
