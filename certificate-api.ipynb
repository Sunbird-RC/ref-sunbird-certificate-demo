{
 "cells": [
  {
   "cell_type": "code",
   "execution_count": 7,
   "id": "f0d66103",
   "metadata": {},
   "outputs": [],
   "source": [
    "import requests\n",
    "import random\n",
    "import json\n",
    "\n",
    "base_url = \"http://localhost:6083\"\n",
    "\n",
    "resp = requests.get(base_url)\n",
    "assert resp.status_code == 404\n",
    "assert resp.json()[\"status\"] == 404\n",
    "assert resp.json()[\"error\"] == \"Not Found\"\n"
   ]
  },
  {
   "cell_type": "code",
   "execution_count": 8,
   "id": "fc57f642",
   "metadata": {},
   "outputs": [
    {
     "name": "stdout",
     "output_type": "stream",
     "text": [
      "['/api/docs/Issuer.json', '/api/docs/Schema.json', '/api/docs/DocumentType.json']\n"
     ]
    }
   ],
   "source": [
    "\n",
    "resp = requests.get(\"%s/api/docs/swagger.json\"%base_url)\n",
    "assert resp.status_code == 200\n",
    "assert resp.json()[\"swagger\"] == \"2.0\"\n",
    "assert resp.json()[\"paths\"] != None\n",
    "\n",
    "swaggerJson = resp.json()\n",
    "swaggerJson[\"paths\"].keys()\n",
    "\n",
    "jsonUrls = [f for f in swaggerJson[\"paths\"].keys() if \".json\" in f]\n",
    "print(jsonUrls)\n",
    "jsonUrl = jsonUrls[0]\n",
    "\n",
    "resp = requests.get(\"%s%s\"%(base_url, jsonUrl))\n",
    "assert resp.status_code == 200\n"
   ]
  },
  {
   "cell_type": "code",
   "execution_count": 9,
   "id": "0e3b1059",
   "metadata": {},
   "outputs": [
    {
     "data": {
      "text/plain": [
       "{'Issuer': {'$id': '#/properties/Issuer',\n",
       "  'type': 'object',\n",
       "  'title': 'Issuer',\n",
       "  'required': [],\n",
       "  'properties': {'name': {'type': 'string',\n",
       "    'title': 'Issuer/Organisation Name'},\n",
       "   'sectorType': {'type': 'string',\n",
       "    'enum': ['Education'],\n",
       "    'title': 'Sector Type'},\n",
       "   'logoUrl': {'type': 'string', 'title': 'Logo url'},\n",
       "   'websiteUrl': {'type': 'string', 'title': 'Website url'},\n",
       "   'accountDetails': {'description': 'Enter Email id or Phone number that you would use for login',\n",
       "    'title': 'Account Details',\n",
       "    'type': 'object',\n",
       "    'properties': {'userId': {'type': 'string',\n",
       "      'title': 'Email Id or Mobile number'}}},\n",
       "   'contactDetails': {'type': 'object',\n",
       "    'description': 'Enter administrator details',\n",
       "    'title': 'Contact Details',\n",
       "    'properties': {'name': {'type': 'string', 'title': 'Contact Name'},\n",
       "     'mobile': {'type': 'string', 'title': 'Mobile number'},\n",
       "     'email': {'type': 'string', 'title': 'Email ID'}}},\n",
       "   'schemas': {'type': 'array',\n",
       "    'items': {'type': 'object',\n",
       "     'properties': {'name': {'type': 'string'},\n",
       "      'documentType': {'type': 'string'},\n",
       "      'schemaOsid': {'type': 'string'}}}}}}}"
      ]
     },
     "execution_count": 9,
     "metadata": {},
     "output_type": "execute_result"
    }
   ],
   "source": [
    "resp.json()"
   ]
  },
  {
   "cell_type": "code",
   "execution_count": 10,
   "id": "3343a6fe",
   "metadata": {},
   "outputs": [
    {
     "name": "stdout",
     "output_type": "stream",
     "text": [
      "Available entities  ['Issuer']\n"
     ]
    }
   ],
   "source": [
    "entities = list(resp.json().keys())\n",
    "print(\"Available entities \", entities)"
   ]
  },
  {
   "cell_type": "code",
   "execution_count": 5,
   "id": "41559bae",
   "metadata": {},
   "outputs": [
    {
     "name": "stdout",
     "output_type": "stream",
     "text": [
      "Using entity TrainingCertificate\n"
     ]
    }
   ],
   "source": [
    "entity_name=entities[0]\n",
    "print(\"Using entity %s\"%entity_name)\n"
   ]
  },
  {
   "cell_type": "code",
   "execution_count": 6,
   "id": "161ca6b9",
   "metadata": {},
   "outputs": [
    {
     "name": "stdout",
     "output_type": "stream",
     "text": [
      "{'id': 'sunbird-rc.registry.create', 'ver': '1.0', 'ets': 1647412648849, 'params': {'resmsgid': '', 'msgid': 'cf15acc7-1c30-43da-930b-55b61ffb482a', 'err': '', 'status': 'UNSUCCESSFUL', 'errmsg': 'java.lang.RuntimeException: java.sql.SQLClientInfoException: Failed to set ClientInfo property: ApplicationName'}, 'responseCode': 'OK', 'result': {}}\n"
     ]
    },
    {
     "ename": "AssertionError",
     "evalue": "",
     "output_type": "error",
     "traceback": [
      "\u001b[0;31m---------------------------------------------------------------------------\u001b[0m",
      "\u001b[0;31mAssertionError\u001b[0m                            Traceback (most recent call last)",
      "\u001b[0;32m/var/folders/1c/_2dh0xbx1k9fzwx2pwfhgxrr0000gn/T/ipykernel_12308/299172775.py\u001b[0m in \u001b[0;36m<module>\u001b[0;34m\u001b[0m\n\u001b[1;32m      6\u001b[0m \u001b[0;34m\u001b[0m\u001b[0m\n\u001b[1;32m      7\u001b[0m })\n\u001b[0;32m----> 8\u001b[0;31m \u001b[0;32massert\u001b[0m \u001b[0mresp\u001b[0m\u001b[0;34m.\u001b[0m\u001b[0mstatus_code\u001b[0m \u001b[0;34m==\u001b[0m \u001b[0;36m200\u001b[0m \u001b[0;32mor\u001b[0m \u001b[0mprint\u001b[0m \u001b[0;34m(\u001b[0m\u001b[0mresp\u001b[0m\u001b[0;34m.\u001b[0m\u001b[0mjson\u001b[0m\u001b[0;34m(\u001b[0m\u001b[0;34m)\u001b[0m\u001b[0;34m)\u001b[0m\u001b[0;34m\u001b[0m\u001b[0;34m\u001b[0m\u001b[0m\n\u001b[0m\u001b[1;32m      9\u001b[0m \u001b[0midx\u001b[0m \u001b[0;34m=\u001b[0m \u001b[0mresp\u001b[0m\u001b[0;34m.\u001b[0m\u001b[0mjson\u001b[0m\u001b[0;34m(\u001b[0m\u001b[0;34m)\u001b[0m\u001b[0;34m[\u001b[0m\u001b[0;34m\"result\"\u001b[0m\u001b[0;34m]\u001b[0m\u001b[0;34m[\u001b[0m\u001b[0mentity_name\u001b[0m\u001b[0;34m]\u001b[0m\u001b[0;34m[\u001b[0m\u001b[0;34m\"osid\"\u001b[0m\u001b[0;34m]\u001b[0m\u001b[0;34m\u001b[0m\u001b[0;34m\u001b[0m\u001b[0m\n",
      "\u001b[0;31mAssertionError\u001b[0m: "
     ]
    }
   ],
   "source": [
    "userId =str(random.randint(1e10,1e11))\n",
    "resp = requests.post(\"%s%s\"%(base_url, '/api/v1/%s'%entity_name), json={\n",
    "    \"name\":\"Sunbird Learner\", \n",
    "    \"contact\": userId, \n",
    "    \"trainingTitle\":\"Sunbird RC Certificate Module\"\n",
    "    \n",
    "})\n",
    "assert resp.status_code == 200 or print (resp.json())\n",
    "idx = resp.json()[\"result\"][entity_name][\"osid\"]\n"
   ]
  },
  {
   "cell_type": "code",
   "execution_count": 54,
   "id": "e73084c3",
   "metadata": {},
   "outputs": [
    {
     "data": {
      "text/plain": [
       "{'id': 'sunbird-rc.registry.create',\n",
       " 'ver': '1.0',\n",
       " 'ets': 1646379652331,\n",
       " 'params': {'resmsgid': '',\n",
       "  'msgid': 'f1d009a3-79c8-4172-ad4e-7d043a978874',\n",
       "  'err': '',\n",
       "  'status': 'SUCCESSFUL',\n",
       "  'errmsg': ''},\n",
       " 'responseCode': 'OK',\n",
       " 'result': {'TrainingCertificate': {'osid': '1-121ee8b7-62e1-42a4-8f70-94d558161c6c'}}}"
      ]
     },
     "execution_count": 54,
     "metadata": {},
     "output_type": "execute_result"
    }
   ],
   "source": [
    "resp.json()\n"
   ]
  },
  {
   "cell_type": "code",
   "execution_count": 55,
   "id": "345cfbf2",
   "metadata": {},
   "outputs": [
    {
     "name": "stdout",
     "output_type": "stream",
     "text": [
      "{'id': 'sunbird-rc.registry.create', 'ver': '1.0', 'ets': 1646379652331, 'params': {'resmsgid': '', 'msgid': 'f1d009a3-79c8-4172-ad4e-7d043a978874', 'err': '', 'status': 'SUCCESSFUL', 'errmsg': ''}, 'responseCode': 'OK', 'result': {'TrainingCertificate': {'osid': '1-121ee8b7-62e1-42a4-8f70-94d558161c6c'}}}\n"
     ]
    },
    {
     "data": {
      "text/plain": [
       "(200, '91912894296')"
      ]
     },
     "execution_count": 55,
     "metadata": {},
     "output_type": "execute_result"
    }
   ],
   "source": [
    "print(resp.json())\n",
    "resp.status_code, userId\n"
   ]
  },
  {
   "cell_type": "code",
   "execution_count": 56,
   "id": "e880f599",
   "metadata": {},
   "outputs": [
    {
     "name": "stdout",
     "output_type": "stream",
     "text": [
      "{\"@context\": [\"https://www.w3.org/2018/credentials/v1\", \"https://gist.githubusercontent.com/dileepbapat/eb932596a70f75016411cc871113a789/raw/498e5af1d94784f114b32c1ab827f951a8a24def/skill\"], \"type\": [\"VerifiableCredential\"], \"issuanceDate\": \"2021-08-27T10:57:57.237Z\", \"credentialSubject\": {\"type\": \"Person\", \"name\": \"Sunbird Learner\", \"trainedOn\": \"Sunbird RC Certificate Module\"}, \"issuer\": \"did:web:sunbirdrc.dev/vc/skill\", \"proof\": {\"type\": \"Ed25519Signature2018\", \"created\": \"2022-03-04T07:40:52Z\", \"verificationMethod\": \"did:india\", \"proofPurpose\": \"assertionMethod\", \"jws\": \"eyJhbGciOiJFZERTQSIsImI2NCI6ZmFsc2UsImNyaXQiOlsiYjY0Il19..EFn8QZk9znnADcQNlir-Wv1HTlKyJMUSe07pxoct-J3i7-6N5Uf5P26d6fu0_TvciOFDVyChFAa35CoO9bbsAA\"}}\n"
     ]
    }
   ],
   "source": [
    "resp = requests.get(\"%s/api/v1/%s/%s\"%(base_url, entity_name, idx), headers={\"Accept\":\"application/vc+ld+json\"})\n",
    "print(json.dumps(resp.json()))\n",
    "assert resp.json()[\"proof\"][\"type\"] == \"Ed25519Signature2018\"\n"
   ]
  },
  {
   "cell_type": "code",
   "execution_count": 60,
   "id": "932efa6f",
   "metadata": {},
   "outputs": [],
   "source": [
    "resp = requests.get(\"%s/api/v1/%s/%s\"%(base_url, entity_name, idx), headers={\"Accept\":\"application/pdf\", \"template\": \"https://raw.githubusercontent.com/dileepbapat/ref-sunbirdrc-certificate/main/schemas/templates/TrainingCertificate.html\"})\n"
   ]
  },
  {
   "cell_type": "code",
   "execution_count": 63,
   "id": "f6854518",
   "metadata": {},
   "outputs": [
    {
     "data": {
      "text/plain": [
       "[]"
      ]
     },
     "execution_count": 63,
     "metadata": {},
     "output_type": "execute_result"
    }
   ],
   "source": [
    "(resp.status_code, resp.content)\n",
    "\n",
    "assert resp.content[:5].decode().startswith(\"%PDF\")\n",
    "with open('sample.pdf', 'wb') as f:\n",
    "    f.write(resp.content)\n",
    "\n",
    "%system open 'sample.pdf'"
   ]
  },
  {
   "cell_type": "code",
   "execution_count": 72,
   "id": "2023bcb4-4f36-431f-af59-184d92b28404",
   "metadata": {},
   "outputs": [],
   "source": [
    "resp = requests.get(\"%s/api/v1/%s/%s\"%(base_url, entity_name, idx), headers={\"Accept\":\"application/pdf\", \"template-key\": \"html\"})\n",
    "(resp.status_code, resp.content)\n",
    "\n",
    "assert resp.content[:5].decode().startswith(\"%PDF\")\n",
    "with open('sample.pdf', 'wb') as f:\n",
    "    f.write(resp.content)\n",
    "    %system open 'sample.pdf'"
   ]
  },
  {
   "cell_type": "code",
   "execution_count": 70,
   "id": "a8a59055-c223-4f49-9b03-6982cfb655ed",
   "metadata": {},
   "outputs": [
    {
     "data": {
      "text/plain": [
       "[]"
      ]
     },
     "execution_count": 70,
     "metadata": {},
     "output_type": "execute_result"
    }
   ],
   "source": [
    "%system open 'sample.pdf'"
   ]
  },
  {
   "cell_type": "code",
   "execution_count": 13,
   "id": "66ade90a",
   "metadata": {},
   "outputs": [
    {
     "data": {
      "text/plain": [
       "[]"
      ]
     },
     "execution_count": 13,
     "metadata": {},
     "output_type": "execute_result"
    }
   ],
   "source": [
    "resp = requests.get(\"%s/api/v1/%s/%s\"%(base_url, entity_name, idx), headers={\"Accept\":\"text/html\"})\n",
    "resp.status_code, resp.content\n",
    "\n",
    "assert resp.content[:5].decode().startswith(\"<html\")\n",
    "with open('sample.html', 'wb') as f:\n",
    "    f.write(resp.content)\n",
    "%system open 'sample.html'\n"
   ]
  },
  {
   "cell_type": "code",
   "execution_count": 14,
   "id": "7d546807",
   "metadata": {},
   "outputs": [
    {
     "data": {
      "text/plain": [
       "[]"
      ]
     },
     "execution_count": 14,
     "metadata": {},
     "output_type": "execute_result"
    }
   ],
   "source": [
    "resp = requests.get(\"%s/api/v1/%s/%s\"%(base_url, entity_name, idx), headers={\"Accept\":\"image/svg+xml\"})\n",
    "resp.status_code, resp.content\n",
    "\n",
    "assert resp.content.decode().find(\"<svg\") != -1\n",
    "with open('sample.svg', 'wb') as f:\n",
    "    f.write(resp.content)\n",
    "%system open 'sample.svg'"
   ]
  },
  {
   "cell_type": "code",
   "execution_count": null,
   "id": "ba6dd127",
   "metadata": {},
   "outputs": [],
   "source": []
  }
 ],
 "metadata": {
  "kernelspec": {
   "display_name": "Python 3 (ipykernel)",
   "language": "python",
   "name": "python3"
  },
  "language_info": {
   "codemirror_mode": {
    "name": "ipython",
    "version": 3
   },
   "file_extension": ".py",
   "mimetype": "text/x-python",
   "name": "python",
   "nbconvert_exporter": "python",
   "pygments_lexer": "ipython3",
   "version": "3.9.5"
  }
 },
 "nbformat": 4,
 "nbformat_minor": 5
}
