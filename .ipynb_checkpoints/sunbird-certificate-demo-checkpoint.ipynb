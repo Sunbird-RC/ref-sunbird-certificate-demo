{
 "cells": [
  {
   "cell_type": "code",
   "execution_count": 66,
   "id": "c9e62b35-8012-4614-9d3d-e9212e7b698f",
   "metadata": {},
   "outputs": [],
   "source": [
    "import requests\n",
    "import random\n",
    "import json\n"
   ]
  },
  {
   "cell_type": "code",
   "execution_count": null,
   "id": "626b7b38-1773-4d3d-b1df-2e53f9372700",
   "metadata": {},
   "outputs": [],
   "source": []
  },
  {
   "cell_type": "code",
   "execution_count": 67,
   "id": "bc7348d4-396b-4319-b6f8-47c210dc0768",
   "metadata": {},
   "outputs": [],
   "source": [
    "baseUrl = \"http://localhost:8081/api/v1/\"\n",
    "keycloakUrl = \"https://ndear.xiv.in\""
   ]
  },
  {
   "cell_type": "markdown",
   "id": "ff7ffb5b-6200-41c6-98c9-794436daba85",
   "metadata": {},
   "source": [
    "# create a issuer"
   ]
  },
  {
   "cell_type": "code",
   "execution_count": 82,
   "id": "8829ed91-6897-4050-8ac7-9e904d83818a",
   "metadata": {},
   "outputs": [
    {
     "name": "stdout",
     "output_type": "stream",
     "text": [
      "{\"id\":\"sunbird-rc.registry.invite\",\"ver\":\"1.0\",\"ets\":1646048707068,\"params\":{\"resmsgid\":\"\",\"msgid\":\"8aeeb44d-c3ba-4b80-9ba5-a92083b7f1cf\",\"err\":\"\",\"status\":\"SUCCESSFUL\",\"errmsg\":\"\"},\"responseCode\":\"OK\",\"result\":{\"Issuer\":{\"osid\":\"1-55380b95-3017-474c-8987-16950f58a532\"}}}\n"
     ]
    }
   ],
   "source": [
    "issuerId = \"qw4@mailinator.com\"\n",
    "issuerRequestBody = {\n",
    "  \"contactDetails\": {\n",
    "    \"email\": issuerId,\n",
    "    \"mobile\": issuerId\n",
    "  },\n",
    "  \"schemas\": [],\n",
    "  \"websiteUrl\": \"https://picsum.photos/200\",\n",
    "  \"logoUrl\": \"https://picsum.photos/200\",\n",
    "  \"name\": \"Issuer\"\n",
    "}\n",
    "headers = {\n",
    "  'Content-Type': 'application/json'\n",
    "}\n",
    "\n",
    "response = requests.request(\"POST\", baseUrl + \"Issuer/invite\", headers=headers, json=issuerRequestBody)\n",
    "\n",
    "print(response.text)"
   ]
  },
  {
   "cell_type": "markdown",
   "id": "28ce5762-04ab-4fb2-b4ee-180a57e2d769",
   "metadata": {},
   "source": [
    "# get issuer token\n"
   ]
  },
  {
   "cell_type": "code",
   "execution_count": 85,
   "id": "959b097e-bc94-449c-87e9-fbb12cd3694f",
   "metadata": {},
   "outputs": [
    {
     "name": "stdout",
     "output_type": "stream",
     "text": [
      "eyJhbGciOiJSUzI1NiIsInR5cCIgOiAiSldUIiwia2lkIiA6ICJVVG9zZ2JYUFZHdmk2a19tVnVEa1oxTTZHeGNtYnBDZW9lTHJBUjJKcC04In0.eyJleHAiOjE2NDYwNDk0MjksImlhdCI6MTY0NjA0ODgyOSwianRpIjoiNzc5MjgwNzktNmRkZi00YjMxLTllOGMtZjY2YjBiMDA0YzRjIiwiaXNzIjoiaHR0cHM6Ly9uZGVhci54aXYuaW4vYXV0aC9yZWFsbXMvc3VuYmlyZC1yYyIsImF1ZCI6ImFjY291bnQiLCJzdWIiOiIwZDA0YjcwYi1mNjg5LTQ0MWEtOWIxMS01YTU2MTJiNzg4YTMiLCJ0eXAiOiJCZWFyZXIiLCJhenAiOiJyZWdpc3RyeS1mcm9udGVuZCIsInNlc3Npb25fc3RhdGUiOiJhMmMzOTA5Yy1iN2M5LTRlZmQtOTU5MC0wODUxMTU3NGUwMDEiLCJhY3IiOiIxIiwiYWxsb3dlZC1vcmlnaW5zIjpbImh0dHBzOi8vbG9jYWxob3N0OjQyMDIiLCJodHRwOi8vbG9jYWxob3N0OjQyMDIiLCJodHRwczovL2xvY2FsaG9zdDo0MjAwIiwiaHR0cHM6Ly9uZGVhci54aXYuaW4iLCJodHRwOi8vbG9jYWxob3N0OjQyMDAiLCJodHRwOi8vbmRlYXIueGl2LmluIiwiaHR0cDovLzIwLjE5OC42NC4xMjgiXSwicmVhbG1fYWNjZXNzIjp7InJvbGVzIjpbIm9mZmxpbmVfYWNjZXNzIiwiYWRtaW4iLCJ1bWFfYXV0aG9yaXphdGlvbiIsImRlZmF1bHQtcm9sZXMtbmRlYXIiXX0sInJlc291cmNlX2FjY2VzcyI6eyJhY2NvdW50Ijp7InJvbGVzIjpbIm1hbmFnZS1hY2NvdW50IiwibWFuYWdlLWFjY291bnQtbGlua3MiLCJ2aWV3LXByb2ZpbGUiXX19LCJzY29wZSI6InByb2ZpbGUgZW1haWwiLCJlbWFpbF92ZXJpZmllZCI6ZmFsc2UsInByZWZlcnJlZF91c2VybmFtZSI6InF3NEBtYWlsaW5hdG9yLmNvbSIsImVudGl0eSI6WyJJc3N1ZXIiXSwiZW1haWwiOiJxdzRAbWFpbGluYXRvci5jb20ifQ.G_Pja0xoW1hJjTbb4KHfBrHMzlZZTL1ZE-mLfNXmZcp4kDga3_jbNVweKkbPjek-15sSc-KJQD-iK5I1yaCLtWIwgDW_rcaNamxkkn44tvYii4XR7Q5Xep8WMUv_10MM4lsnkCD1r0NOP0rJTVFcdINGQinzaFvZooUhd_CRWXMg8Oa9bzKt1fcA5wADn2YBRSL49h68S56TFrKfpEkU3Acjxy34WrVC7pIdEOXgeYvF6lZZaDl21C3p5A_y0P0A0zwFwcfD7uLA_mHYeNOeDfNh-RL13hkBWm94L4ldlIxQo7nQtcpxkNezHDdj2dxTSKRf-XUzonswfcOTngpFXw\n"
     ]
    }
   ],
   "source": [
    "def getToken(userId):\n",
    "    headers = {\n",
    "        'content-type': 'application/x-www-form-urlencoded',\n",
    "    }\n",
    "\n",
    "    data = {\n",
    "      'client_id': 'registry-frontend',\n",
    "      'username': userId,\n",
    "      'password': '123',\n",
    "      'grant_type': 'password'\n",
    "    }\n",
    "\n",
    "    response = requests.post('%s/auth/realms/sunbird-rc/protocol/openid-connect/token'%(keycloakUrl), headers=headers, data=data)\n",
    "#     print(response.json())\n",
    "#     print(response.status_code)\n",
    "    token = response.json()[\"access_token\"]\n",
    "    return token\n",
    "\n",
    "token = getToken(issuerId)\n",
    "print(token)"
   ]
  },
  {
   "cell_type": "markdown",
   "id": "52c10e0b-2c99-44dd-932e-b1ccc3dde242",
   "metadata": {},
   "source": [
    "# create a schema"
   ]
  },
  {
   "cell_type": "code",
   "execution_count": 93,
   "id": "e35ee24c-0e23-4137-81d1-eb21eb2b1a97",
   "metadata": {},
   "outputs": [
    {
     "name": "stdout",
     "output_type": "stream",
     "text": [
      "{\"id\":\"sunbird-rc.registry.create\",\"ver\":\"1.0\",\"ets\":1646048953286,\"params\":{\"resmsgid\":\"\",\"msgid\":\"62545939-1dff-4cb7-9a35-674a51f112e7\",\"err\":\"\",\"status\":\"SUCCESSFUL\",\"errmsg\":\"\"},\"responseCode\":\"OK\",\"result\":{\"Schema\":{\"osid\":\"1-2ad16678-9ecd-4cfd-880d-6d59165c19f8\"}}}\n"
     ]
    }
   ],
   "source": [
    "\n",
    "schemaRequestBody = {\n",
    "  \"name\": \"schema3\",\n",
    "    \"schema\":\"{}\"\n",
    "}\n",
    "headers = {\n",
    "  'Content-Type': 'application/json',\n",
    "    'Authorization': 'Bearer ' + token\n",
    "}\n",
    "\n",
    "response = requests.request(\"POST\", baseUrl + \"Schema\", headers=headers, json=schemaRequestBody)\n",
    "\n",
    "print(response.text)"
   ]
  },
  {
   "cell_type": "code",
   "execution_count": 94,
   "id": "2afc69be-7116-4616-960b-ce36d83757b3",
   "metadata": {},
   "outputs": [
    {
     "data": {
      "text/plain": [
       "<Response [200]>"
      ]
     },
     "execution_count": 94,
     "metadata": {},
     "output_type": "execute_result"
    }
   ],
   "source": [
    "response"
   ]
  },
  {
   "cell_type": "markdown",
   "id": "2675f607-b28d-460a-8764-dc2b77fb5c1f",
   "metadata": {},
   "source": [
    "# get all schemas"
   ]
  },
  {
   "cell_type": "code",
   "execution_count": 100,
   "id": "3f9386dc-0f0b-4624-ae05-0c4d0ef8c418",
   "metadata": {},
   "outputs": [
    {
     "name": "stdout",
     "output_type": "stream",
     "text": [
      "[{'osUpdatedAt': '2022-02-28T09:02:53.810399Z', 'osCreatedAt': '2022-02-28T09:02:53.810399Z', 'osUpdatedBy': 'b2d634b6-07d2-4863-b59e-88a44fe51e16', 'name': 'schema2', 'osCreatedBy': 'b2d634b6-07d2-4863-b59e-88a44fe51e16', 'osid': '1-a741d262-6da8-4474-a638-7fb3fbc3cd79'}, {'osUpdatedAt': '2022-02-28T11:48:52.785246Z', 'osCreatedAt': '2022-02-28T11:48:52.785246Z', 'osUpdatedBy': '0d04b70b-f689-441a-9b11-5a5612b788a3', 'name': 'schema1', 'osCreatedBy': '0d04b70b-f689-441a-9b11-5a5612b788a3', 'osid': '1-9aef303d-c6fe-4bcb-a8d8-004577fd94d7', 'osOwner': ['0d04b70b-f689-441a-9b11-5a5612b788a3']}, {'osUpdatedAt': '2022-02-28T11:49:13.294882Z', 'osCreatedAt': '2022-02-28T11:49:13.294882Z', 'osUpdatedBy': '0d04b70b-f689-441a-9b11-5a5612b788a3', 'name': 'schema3', 'osCreatedBy': '0d04b70b-f689-441a-9b11-5a5612b788a3', 'osid': '1-2ad16678-9ecd-4cfd-880d-6d59165c19f8', 'osOwner': ['0d04b70b-f689-441a-9b11-5a5612b788a3']}]\n",
      "schema2\n",
      "schema1\n",
      "schema3\n"
     ]
    }
   ],
   "source": [
    "schemaRequestBody = {\n",
    "  \"entity\": \"Schema\",\n",
    "    \"filters\": {}\n",
    "}\n",
    "headers = {\n",
    "  'Content-Type': 'application/json',\n",
    "    'Authorization': 'Bearer ' + token\n",
    "}\n",
    "\n",
    "response = requests.request(\"POST\", baseUrl + \"Schema/search\", headers=headers, json=schemaRequestBody)\n",
    "\n",
    "print(response.json())\n",
    "for j in response.json():\n",
    "    print(j['name'])"
   ]
  },
  {
   "cell_type": "code",
   "execution_count": 106,
   "id": "ea111905-0af2-411a-b154-dbccf5f2c89e",
   "metadata": {},
   "outputs": [
    {
     "name": "stdout",
     "output_type": "stream",
     "text": [
      "<Response [200]>\n",
      "[{'osUpdatedAt': '2022-02-28T11:48:52.785246Z', 'osCreatedAt': '2022-02-28T11:48:52.785246Z', 'osUpdatedBy': '0d04b70b-f689-441a-9b11-5a5612b788a3', 'name': 'schema1', 'osCreatedBy': '0d04b70b-f689-441a-9b11-5a5612b788a3', 'osid': '1-9aef303d-c6fe-4bcb-a8d8-004577fd94d7', 'osOwner': ['0d04b70b-f689-441a-9b11-5a5612b788a3']}, {'osUpdatedAt': '2022-02-28T11:49:13.294882Z', 'osCreatedAt': '2022-02-28T11:49:13.294882Z', 'osUpdatedBy': '0d04b70b-f689-441a-9b11-5a5612b788a3', 'name': 'schema3', 'osCreatedBy': '0d04b70b-f689-441a-9b11-5a5612b788a3', 'osid': '1-2ad16678-9ecd-4cfd-880d-6d59165c19f8', 'osOwner': ['0d04b70b-f689-441a-9b11-5a5612b788a3']}]\n",
      "2\n"
     ]
    }
   ],
   "source": [
    "schemaRequestBody = {\n",
    "  \"entity\": \"Schema\",\n",
    "    \"filters\": {}\n",
    "}\n",
    "headers = {\n",
    "  'Content-Type': 'application/json',\n",
    "    'Authorization': 'Bearer ' + token\n",
    "}\n",
    "\n",
    "response = requests.request(\"GET\", baseUrl + \"Schema\", headers=headers)\n",
    "print(response)\n",
    "print(response.json())\n",
    "print(len(response.json()))"
   ]
  },
  {
   "cell_type": "code",
   "execution_count": null,
   "id": "cf8388d9-68b2-476a-b2e8-b10d60216c4b",
   "metadata": {},
   "outputs": [],
   "source": []
  }
 ],
 "metadata": {
  "kernelspec": {
   "display_name": "Python 3 (ipykernel)",
   "language": "python",
   "name": "python3"
  },
  "language_info": {
   "codemirror_mode": {
    "name": "ipython",
    "version": 3
   },
   "file_extension": ".py",
   "mimetype": "text/x-python",
   "name": "python",
   "nbconvert_exporter": "python",
   "pygments_lexer": "ipython3",
   "version": "3.9.5"
  }
 },
 "nbformat": 4,
 "nbformat_minor": 5
}
