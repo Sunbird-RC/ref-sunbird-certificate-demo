{
 "cells": [
  {
   "cell_type": "code",
   "execution_count": 18,
   "id": "657d52dc-9a5a-4a68-9692-0ac800859bc2",
   "metadata": {
    "pycharm": {
     "name": "#%%\n"
    }
   },
   "outputs": [],
   "source": [
    "import requests\n",
    "import random\n",
    "import json\n",
    "registryBase = \"http://localhost:8081/\"\n",
    "base_url = \"http://localhost:8081\"\n",
    "keycloakUrl = \"http://keycloak:8080\""
   ]
  },
  {
   "cell_type": "code",
   "execution_count": 19,
   "id": "0c4a73e0-cdf0-45f6-bd61-3885565242ac",
   "metadata": {
    "pycharm": {
     "name": "#%%\n"
    }
   },
   "outputs": [
    {
     "name": "stdout",
     "output_type": "stream",
     "text": [
      "['/api/docs/TrainingCertificate.json', '/api/docs/Issuer.json', '/api/docs/Schema.json', '/api/docs/DocumentType.json']\n"
     ]
    }
   ],
   "source": [
    "resp = requests.get(\"%s/api/docs/swagger.json\"%base_url)\n",
    "assert resp.status_code == 200\n",
    "assert resp.json()[\"swagger\"] == \"2.0\"\n",
    "assert resp.json()[\"paths\"] != None\n",
    "\n",
    "swaggerJson = resp.json()\n",
    "swaggerJson[\"paths\"].keys()\n",
    "\n",
    "jsonUrls = [f for f in swaggerJson[\"paths\"].keys() if \".json\" in f]\n",
    "print(jsonUrls)\n",
    "jsonUrl = jsonUrls[0]\n",
    "\n",
    "resp = requests.get(\"%s%s\"%(base_url, jsonUrl))\n",
    "assert resp.status_code == 200"
   ]
  },
  {
   "cell_type": "markdown",
   "id": "30523df7-9dac-4c2c-9a3e-df3f33057f18",
   "metadata": {
    "pycharm": {
     "name": "#%% md\n"
    }
   },
   "source": [
    "# Create a certificate (async)"
   ]
  },
  {
   "cell_type": "code",
   "execution_count": 35,
   "id": "da205a61-55ab-4606-8c59-ce7362ed9155",
   "metadata": {
    "pycharm": {
     "name": "#%%\n"
    }
   },
   "outputs": [
    {
     "name": "stdout",
     "output_type": "stream",
     "text": [
      "36722726214\n",
      "{\"id\":\"open-saber.registry.create\",\"ver\":\"1.0\",\"ets\":1658211770153,\"params\":{\"resmsgid\":\"\",\"msgid\":\"ba705a38-78f0-466f-8e04-b8f6c662de44\",\"err\":\"\",\"status\":\"SUCCESSFUL\",\"errmsg\":\"\"},\"responseCode\":\"OK\",\"result\":{\"TrainingCertificate\":{\"transactionId\":\"1-ccc611d9-54b7-47b5-b834-293f0ced04e6\"}}}\n"
     ]
    }
   ],
   "source": [
    "contactNum =str(random.randint(1e10,1e11))\n",
    "print(contactNum)\n",
    "entity_name = \"TrainingCertificate\"\n",
    "resp = requests.post(\"%s%s\"%(base_url, '/api/v1/TrainingCertificate'), json={\n",
    "    \"name\":\"Sunbird Learner\", \n",
    "    \"contact\": contactNum, \n",
    "    \"trainingTitle\":\"Sunbird RC Certificate Module\"\n",
    "    \n",
    "})\n",
    "print(resp.text)\n",
    "assert resp.status_code == 200 or print (resp.json())\n",
    "assert \"transactionId\" in resp.json()[\"result\"][entity_name]\n",
    "idx = resp.json()[\"result\"][entity_name][\"transactionId\"]\n"
   ]
  },
  {
   "cell_type": "markdown",
   "id": "1093e5c9-6127-4417-aad6-43afba2af017",
   "metadata": {
    "pycharm": {
     "name": "#%% md\n"
    }
   },
   "source": [
    "# Get certificate"
   ]
  },
  {
   "cell_type": "code",
   "execution_count": 36,
   "id": "e02458e2-09c8-43ae-a86e-6117dc35d434",
   "metadata": {
    "pycharm": {
     "name": "#%%\n"
    }
   },
   "outputs": [
    {
     "name": "stdout",
     "output_type": "stream",
     "text": [
      "[{'contact': '36722726214', 'trainingTitle': 'Sunbird RC Certificate Module', 'name': 'Sunbird Learner', 'osid': '1-4f2df27a-79ad-4c10-9e10-c21c34e3bb75', '_osSignedData': '{\"@context\":[\"https://www.w3.org/2018/credentials/v1\",\"https://gist.githubusercontent.com/dileepbapat/eb932596a70f75016411cc871113a789/raw/498e5af1d94784f114b32c1ab827f951a8a24def/skill\"],\"type\":[\"VerifiableCredential\"],\"issuanceDate\":\"2021-08-27T10:57:57.237Z\",\"credentialSubject\":{\"type\":\"Person\",\"name\":\"Sunbird Learner\",\"trainedOn\":\"Sunbird RC Certificate Module\"},\"issuer\":\"did:web:sunbirdrc.dev/vc/skill\",\"proof\":{\"type\":\"Ed25519Signature2018\",\"created\":\"2022-07-19T06:22:50Z\",\"verificationMethod\":\"did:india\",\"proofPurpose\":\"assertionMethod\",\"jws\":\"eyJhbGciOiJFZERTQSIsImI2NCI6ZmFsc2UsImNyaXQiOlsiYjY0Il19..OoDmGfFzVMDjD7hNtxO2DV-gk44oTy2LUYfzHG-lrM4dhUcAmbcyq2SlB_2HSo6ZNnJvqc3nkK7BhWclfxWKBA\"}}', 'osOwner': ['anonymous']}]\n"
     ]
    }
   ],
   "source": [
    "url = \"%s/api/v1/TrainingCertificate/search\"%(base_url)\n",
    "\n",
    "payload=\"{\\n    \\\"filters\\\": {\\n        \\\"contact\\\": {\\n            \\\"eq\\\": \\\"93028088364\\\"\\n        }\\n    }\\n}\"\n",
    "headers = {\n",
    "  'Content-Type': 'application/json'\n",
    "}\n",
    "\n",
    "response = requests.request(\"POST\", url, headers=headers, json={\n",
    "    \"filters\": {\n",
    "        \"contact\": {\n",
    "            \"eq\": contactNum\n",
    "        }\n",
    "    }\n",
    "})\n",
    "assert len(response.json()) == 1\n",
    "print(response.json())\n"
   ]
  },
  {
   "cell_type": "code",
   "execution_count": null,
   "id": "bcb95060-b672-4014-8f58-d222d8ea9194",
   "metadata": {
    "pycharm": {
     "name": "#%%\n"
    }
   },
   "outputs": [],
   "source": []
  }
 ],
 "metadata": {
  "kernelspec": {
   "display_name": "Python 3 (ipykernel)",
   "language": "python",
   "name": "python3"
  },
  "language_info": {
   "codemirror_mode": {
    "name": "ipython",
    "version": 3
   },
   "file_extension": ".py",
   "mimetype": "text/x-python",
   "name": "python",
   "nbconvert_exporter": "python",
   "pygments_lexer": "ipython3",
   "version": "3.9.13"
  }
 },
 "nbformat": 4,
 "nbformat_minor": 5
}